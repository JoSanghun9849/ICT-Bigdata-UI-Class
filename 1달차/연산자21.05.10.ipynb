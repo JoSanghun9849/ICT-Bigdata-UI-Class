{
 "cells": [
  {
   "cell_type": "markdown",
   "metadata": {
    "id": "rJ1WbmjooSMP"
   },
   "source": [
    "# 1. 산술연산자\n",
    "\n",
    "## 1.1 가장 기본적인 연산자. 사칙연산(+, - , *, /)이 기본\n",
    "\n",
    "## 1.2 조금 생소할 수 있는 연산자\n",
    "- % : 몫을 나눈 나머지를 구함\n",
    "- // : 나눔셈에 대한 몫을 정수형으로 구함\n",
    "- ** : 제곱연산"
   ]
  },
  {
   "cell_type": "code",
   "execution_count": null,
   "metadata": {
    "id": "k00KmZJ4oSMV"
   },
   "outputs": [],
   "source": []
  },
  {
   "cell_type": "markdown",
   "metadata": {
    "id": "-Cv-gZADoSMW"
   },
   "source": [
    "## 1.3 산술연산자의 우선 순위\n",
    "- *, /를 먼저 계산하며, ()를 활용할 수 있다."
   ]
  },
  {
   "cell_type": "code",
   "execution_count": null,
   "metadata": {
    "id": "ak0Rb6CwoSMX",
    "outputId": "32c1ecd6-ad12-4ee8-9bd2-7b11c029d4d4"
   },
   "outputs": [
    {
     "data": {
      "text/plain": [
       "550"
      ]
     },
     "execution_count": 10,
     "metadata": {
      "tags": []
     },
     "output_type": "execute_result"
    }
   ],
   "source": [
    "(100 + 10) *5\n"
   ]
  },
  {
   "cell_type": "markdown",
   "metadata": {
    "id": "8UBuV3xNoSMY"
   },
   "source": [
    "## 1.4 산술연산자와 대입연산자\n",
    "\n",
    "| 연산자 | 사용 예 | 설명 | 연산자 | 사용 예 | 설명 | \n",
    "| --- | --- | --- | --- | --- | --- | \n",
    "| += | a += 3 | a = a+3 | -= | a -= 3 | a = a-3 \n",
    "| *= | a *= 3 | a = a*3 | /= | a /= 3 | a = a/3 |\n",
    "| //= | a //= 3 | a = a//3 |  %= | a %= 3 | a = a%3 |\n",
    "| **= | a **= 3 | a = a**3 |\n"
   ]
  },
  {
   "cell_type": "markdown",
   "metadata": {
    "id": "h4NFdHm3oSMY"
   },
   "source": [
    "**연습문제1) 동전교환 프로그램**\n",
    "- 금액을 입력 받아서 동전으로 바꿔주는 프로그램"
   ]
  },
  {
   "cell_type": "code",
   "execution_count": 1,
   "metadata": {
    "id": "Zz64KGFBoSMZ"
   },
   "outputs": [
    {
     "name": "stdout",
     "output_type": "stream",
     "text": [
      "금액을 입력하세요 : 2300\n",
      "금액을 입력하세요 : 2300\n",
      "300\n",
      "500원 : 4개\n",
      "100원 : 3개\n",
      "50원 : 0개\n",
      "10원 : 0개\n",
      "바꾸지 못한 잔돈: 0원\n"
     ]
    }
   ],
   "source": [
    "# 입력 : 금액(정수형)\n",
    "# 처리 : 전체 금액 \n",
    "# 출력 : 500원 : 개, 100원 : 100개,.....\n",
    "money = int(input(\"금액을 입력하세요 : \"))\n",
    "\n",
    "coin500 =  money // 500\n",
    "money %= 500\n",
    "print(money)\n",
    "\n",
    "coin100 = money // 100\n",
    "money %= 100\n",
    "\n",
    "coin50 = money // 50\n",
    "money %= 50\n",
    "\n",
    "coin10 = money //10\n",
    "money %= 10\n",
    "\n",
    "print(\"500원 : {}개\".format(coin500))\n",
    "print(\"100원 : {}개\".format(coin100))\n",
    "print(\"50원 : {}개\".format(coin50))\n",
    "print(\"10원 : {}개\".format(coin10))\n",
    "print(\"바꾸지 못한 잔돈: {}원\".format(money))\n",
    "\n"
   ]
  },
  {
   "cell_type": "markdown",
   "metadata": {
    "id": "YZnUB30uoSMZ"
   },
   "source": [
    "# 2. 비교(관계)연산자\n",
    "- == : 같다.\n",
    "- != : 같지 않다."
   ]
  },
  {
   "cell_type": "code",
   "execution_count": 2,
   "metadata": {
    "id": "JpAOr08goSMZ"
   },
   "outputs": [
    {
     "name": "stdout",
     "output_type": "stream",
     "text": [
      "100\n",
      "200\n",
      "False\n"
     ]
    }
   ],
   "source": [
    "a,b = 100, 200\n",
    "print(a)\n",
    "print(b)\n",
    "\n",
    "if a==b:\n",
    "  print('True')\n",
    "else:\n",
    "  print(\"False\")"
   ]
  },
  {
   "cell_type": "code",
   "execution_count": 3,
   "metadata": {},
   "outputs": [
    {
     "name": "stdout",
     "output_type": "stream",
     "text": [
      "True\n"
     ]
    }
   ],
   "source": [
    "if a!=b:\n",
    "  print('True')\n",
    "else:\n",
    "  print(\"False\")"
   ]
  },
  {
   "cell_type": "code",
   "execution_count": 4,
   "metadata": {},
   "outputs": [
    {
     "name": "stdout",
     "output_type": "stream",
     "text": [
      "False True False False True True\n"
     ]
    }
   ],
   "source": [
    " print(a==b, a!=b, a>b, a>=b, a<b, a<=b)"
   ]
  },
  {
   "cell_type": "code",
   "execution_count": null,
   "metadata": {},
   "outputs": [],
   "source": []
  },
  {
   "cell_type": "markdown",
   "metadata": {
    "id": "Jym-Kwu6oSMZ"
   },
   "source": [
    "# 3. 논리연산자\n",
    "\n",
    "| 연산자 | 의미 | 설명   | 사용 예   |\n",
    "| --- | --- | --- | --- |\n",
    "| and(논리곱) | ~이고, 그리고 | 둘 다 참이어야 함 | (a>100) and (a<200)\n",
    "| or(논리합) | ~이거나, 또는 | 둘 중 하나만 참이어도 참 | (a==100) or (a==200)\n",
    "| not(논리부정) | ~아니다. 부정 | 참이면 거짓, 거짓이면 참 | not(a>100)"
   ]
  },
  {
   "cell_type": "code",
   "execution_count": null,
   "metadata": {
    "id": "CqD2YK0joSMa"
   },
   "outputs": [],
   "source": [
    "a = 99\n",
    "\n",
    "print((a>100) and (a<200))\n",
    "print((a>100) or (a<200))\n",
    "print(not(a>100))"
   ]
  },
  {
   "cell_type": "markdown",
   "metadata": {
    "id": "3sHQHAo9oSMa"
   },
   "source": [
    "# 4. 연산자 우선순위\n",
    "\n",
    "| 순위 | <center>연산자</center> | <center>의미</center>  |\n",
    "|---:|:--- |:---| \n",
    "| 1 | ( )  [ ]  { }| 괄호, 리스트, 딕셔너리, 세트 등 |\n",
    "| 2 | ** | 지수 |\n",
    "| 3 | + -  | 단항연산자(숫자나, 변수앞에 붙는 +, - 부호)  |\n",
    "| 4 | * / % // | 산술연산자  |\n",
    "| 5 | + - | 산술연산자 |\n",
    "| 6 | < > >= <= | 관계연산자 |\n",
    "| 7 | == != | 관계연산자 |\n",
    "| 8 | = %= /= //= -= += \\*= \\*\\*= | 대입연산자 |\n",
    "| 9 | not | 논리연산자 |\n",
    "| 10 | and | 논리연산자 |\n",
    "| 11 | or | 논리연산자 |\n",
    "| 12 | if ~ else | 비교식 |\n"
   ]
  },
  {
   "cell_type": "markdown",
   "metadata": {
    "id": "3mjXMk9AoSMa"
   },
   "source": [
    "# 4.실전문제"
   ]
  },
  {
   "cell_type": "markdown",
   "metadata": {
    "id": "ujQXvvmCoSMa"
   },
   "source": [
    "**실전1 : 돈(예 : 7777777)을 입력하면 5만원, 1만원, 5천원, 천원 지폐로 교환하는 프로그램 만들기**"
   ]
  },
  {
   "cell_type": "code",
   "execution_count": 7,
   "metadata": {
    "id": "Me0KyGy_oSMb"
   },
   "outputs": [
    {
     "name": "stdout",
     "output_type": "stream",
     "text": [
      "지폐 교환 금액 : 777777\n",
      "5만원권 : 15장\n",
      "1만원권 : 2장\n",
      "5천원권 : 1장\n",
      "천원권 : 2장\n",
      "나머지 금액 : 777원\n"
     ]
    }
   ],
   "source": [
    "money = int(input(\"지폐 교환 금액 : \"))\n",
    "\n",
    "note5만원 = money // 50000\n",
    "money %=50000\n",
    "\n",
    "note1만원 = money // 10000\n",
    "money %=10000\n",
    "\n",
    "note5천원 = money // 5000\n",
    "money %=5000\n",
    "\n",
    "note천원 = money // 1000\n",
    "money %=1000\n",
    "\n",
    "print(\"5만원권 : {}장\".format(note5만원))\n",
    "print(\"1만원권 : {}장\".format(note1만원))\n",
    "print(\"5천원권 : {}장\".format(note5천원))\n",
    "print(\"천원권 : {}장\".format(note천원))\n",
    "print(\"나머지 금액 : {}원\".format(money))"
   ]
  },
  {
   "cell_type": "code",
   "execution_count": 16,
   "metadata": {},
   "outputs": [
    {
     "name": "stdout",
     "output_type": "stream",
     "text": [
      "지폐 교환 금액 : 1350000\n",
      "1만원권 :100장\n",
      "5만원권 : 7장\n",
      "5천원권 : 0장\n",
      "천원권 : 0장\n",
      "나머지 금액 : 0원\n"
     ]
    }
   ],
   "source": [
    "money = int(input(\"지폐 교환 금액 : \"))\n",
    "\n",
    "if money<100*10000:\n",
    "    print(\"교환 금액이 부족합니다.\")\n",
    "else:\n",
    "    money10000 = 100\n",
    "    money-=(100*10000)\n",
    "\n",
    "    money50000 = money // 50000\n",
    "    money %=50000\n",
    "    \n",
    "    money5000 = money // 5000\n",
    "    money %=5000\n",
    "    \n",
    "    money1000 = money // 1000\n",
    "    money %=1000\n",
    "    \n",
    "print(\"1만원권 :{}장\".format(money10000))\n",
    "print(\"5만원권 : {}장\".format(money50000))\n",
    "print(\"5천원권 : {}장\".format(money5000))\n",
    "print(\"천원권 : {}장\".format(money1000))\n",
    "print(\"나머지 금액 : {}원\".format(money))"
   ]
  },
  {
   "cell_type": "code",
   "execution_count": null,
   "metadata": {},
   "outputs": [],
   "source": []
  },
  {
   "cell_type": "markdown",
   "metadata": {
    "id": "S8Ht4Zw9oSMb"
   },
   "source": [
    "**실전 2 : 윤년 계산하기 프로그램**\n",
    "- 논리 연산자를 이용하여 업그레이드 된 윤년 계산기 만들기\n",
    "- 4로 나누어 떨어지는 해는 윤년으로 한다. (1988년, 1992년, 1996년, 2004년, 2008년, 2012년, 2016년, 2020년, 2024년, 2028년, 2032년, 2036년, 2040년, 2044년 ...)\n",
    "- 4, 100 으로 나누어 떨어지는 해는 평년으로 한다. (1900년, 2100년, 2200년, 2300년, 2500년...)\n",
    "- 4, 100, 400 으로 나누어 떨어지는 해는 윤년으로 둔다. (2000년, 2400년...)\n",
    "출처: 위키백과\n",
    "\n",
    "==> 종합하면 **4의 배수이면서 100의 배수가 아니거나**, **400의 배수**면 윤년이다."
   ]
  },
  {
   "cell_type": "code",
   "execution_count": 31,
   "metadata": {
    "id": "G55Jh_-5oSMb"
   },
   "outputs": [
    {
     "name": "stdout",
     "output_type": "stream",
     "text": [
      "년도 : 2021\n",
      "2021년은 윤년이 아닙니다.\n"
     ]
    }
   ],
   "source": [
    "year = int(input(\"년도 : \"))\n",
    "\n",
    "if ((year % 4 == 0) and (year % 100 != 0)) or (year % 400 == 0) :\n",
    "    print(\"%d년은 윤년입니다.\" % year)\n",
    "else:\n",
    "    print(\"%d년은 윤년이 아닙니다.\"%year)"
   ]
  },
  {
   "cell_type": "code",
   "execution_count": null,
   "metadata": {},
   "outputs": [],
   "source": []
  },
  {
   "cell_type": "code",
   "execution_count": null,
   "metadata": {},
   "outputs": [],
   "source": []
  }
 ],
 "metadata": {
  "colab": {
   "name": "003.연산자_before.ipynb",
   "provenance": []
  },
  "kernelspec": {
   "display_name": "Python 3",
   "language": "python",
   "name": "python3"
  },
  "language_info": {
   "codemirror_mode": {
    "name": "ipython",
    "version": 3
   },
   "file_extension": ".py",
   "mimetype": "text/x-python",
   "name": "python",
   "nbconvert_exporter": "python",
   "pygments_lexer": "ipython3",
   "version": "3.8.5"
  },
  "toc": {
   "base_numbering": 1,
   "nav_menu": {},
   "number_sections": false,
   "sideBar": true,
   "skip_h1_title": false,
   "title_cell": "Table of Contents",
   "title_sidebar": "Contents",
   "toc_cell": false,
   "toc_position": {
    "height": "calc(100% - 180px)",
    "left": "10px",
    "top": "150px",
    "width": "253.729px"
   },
   "toc_section_display": true,
   "toc_window_display": false
  }
 },
 "nbformat": 4,
 "nbformat_minor": 1
}
