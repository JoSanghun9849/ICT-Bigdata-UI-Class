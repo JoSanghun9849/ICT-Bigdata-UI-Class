{
 "cells": [
  {
   "cell_type": "markdown",
   "metadata": {
    "id": "0yqLL6A41ZJ2"
   },
   "source": [
    "# 모듈\n",
    "- 함수나 변수 또는 클래스를 모아놓은 **파일**. \n",
    "- 다른 프로그램에서 불러와서 사용할 수 있게끔 만든 파이썬 파일\n",
    "- 파이썬 프로그래밍을 할때 굉장히 많은 모듈을 사용\n",
    "- 다른 사람들이 이미 만들어놓은 모듈을 사용할수도 있고 직접 만들어 사용도 가능\n",
    "- 표준모듈 : 파이썬에 기본적으로 내장되어 있는 모듈\n",
    "- 외부모듈 : 다른사람들이 만들어서 공개한 모듈\n",
    "- **import 모듈이름**\n",
    "\n",
    "- 웹프로그래밍 >> 장고\n",
    "- 수치계산 >> numpy\n",
    "- 데이터 처리 >> pandas\n"
   ]
  },
  {
   "cell_type": "markdown",
   "metadata": {
    "id": "Ak569DNY1ZJ4"
   },
   "source": [
    "## 1. 표준 모듈\n",
    "- 파이썬에 기본적으로 내장되어 있는 모듈"
   ]
  },
  {
   "cell_type": "markdown",
   "metadata": {
    "id": "cfBxGGK71ZJ4"
   },
   "source": [
    "### 1.1 사용법"
   ]
  },
  {
   "cell_type": "code",
   "execution_count": 3,
   "metadata": {
    "id": "F5C8qaO81ZJ5"
   },
   "outputs": [
    {
     "name": "stdout",
     "output_type": "stream",
     "text": [
      "0.8414709848078965\n",
      "0.5403023058681398\n",
      "1.5574077246549023\n"
     ]
    },
    {
     "data": {
      "text/plain": [
       "0.8813735870195429"
      ]
     },
     "execution_count": 3,
     "metadata": {},
     "output_type": "execute_result"
    }
   ],
   "source": [
    "import math\n",
    "\n",
    "print(math.sin(1))\n",
    "print(math.cos(1))\n",
    "print(math.tan(1))\n"
   ]
  },
  {
   "cell_type": "markdown",
   "metadata": {
    "id": "jTOuatla1ZJ5"
   },
   "source": [
    "### 1.2 from 구문\n",
    "- 모듈에는 많은 변수와 함수가 있다. \n",
    "- 그중에 사용하고 싶은 기능은 일부분 이고 math.sin(), math.cos(), math.tan() 처럼 앞에 math를 계속 입력해야한다.\n",
    "- **from 모듈이름 import 가져오고 싶은 변수 또는 함수**"
   ]
  },
  {
   "cell_type": "code",
   "execution_count": 5,
   "metadata": {
    "id": "lwmTxIlv1ZJ6"
   },
   "outputs": [
    {
     "name": "stdout",
     "output_type": "stream",
     "text": [
      "0.8414709848078965\n",
      "0.5403023058681398\n",
      "1.5574077246549023\n"
     ]
    }
   ],
   "source": [
    "from math import sin, cos, tan\n",
    "\n",
    "print(sin(1))\n",
    "print(cos(1))\n",
    "print(tan(1))"
   ]
  },
  {
   "cell_type": "markdown",
   "metadata": {
    "id": "P9Ga3ZBG1ZJ6"
   },
   "source": [
    "- 앞에 math를 붙히는 것은 싫고 모든 기능을 가져오고 싶다면\n",
    "- **from math import ***\n",
    "- 이 경우는 식별자 충돌이 발생할 가능성이 높다. 따라서 from 구문을 사용할 때는 최대한 필요한 것들만 가져와서 사용하는 것이 좋다."
   ]
  },
  {
   "cell_type": "code",
   "execution_count": null,
   "metadata": {
    "id": "6F1wwByj1ZJ6"
   },
   "outputs": [],
   "source": [
    "from math import*"
   ]
  },
  {
   "cell_type": "markdown",
   "metadata": {
    "id": "rC-dj7h21ZJ6"
   },
   "source": [
    "### 1.3  as 구문\n",
    "- math모듈을 쓰기는 귀찮고 * 기호를 쓰기는 위험부담이 있을때 짧게 줄여주는 구문\n",
    "- **import 모듈 as 사용하고 싶은 별명**"
   ]
  },
  {
   "cell_type": "code",
   "execution_count": 7,
   "metadata": {
    "id": "yJPsIMVd1ZJ7"
   },
   "outputs": [
    {
     "name": "stdout",
     "output_type": "stream",
     "text": [
      "0.8414709848078965\n",
      "0.5403023058681398\n",
      "1.5574077246549023\n"
     ]
    }
   ],
   "source": [
    "import math as a\n",
    "\n",
    "print(a.sin(1))\n",
    "print(a.cos(1))\n",
    "print(a.tan(1))"
   ]
  },
  {
   "cell_type": "markdown",
   "metadata": {
    "id": "rVRpnVnw1ZJ7"
   },
   "source": [
    "## 2. random 모듈"
   ]
  },
  {
   "cell_type": "code",
   "execution_count": 8,
   "metadata": {
    "id": "dpduKjAb1ZJ7",
    "outputId": "5cf6f475-a401-4034-aa7f-358ba3ae5a24"
   },
   "outputs": [
    {
     "name": "stdout",
     "output_type": "stream",
     "text": [
      "random : 0.021678646992447703\n",
      "randint : 98\n",
      "uniform :  3.9059056194310298\n",
      "randrange1 : 4\n",
      "randrange2 : 70\n",
      "choice : 2\n",
      "shuffle : [3, 4, 5, 2, 1]\n",
      "sample :  [1, 2]\n"
     ]
    }
   ],
   "source": [
    "import random\n",
    "\n",
    "print('random :', random.random())                             # Random float:  0.0 <= x < 1.0\n",
    "print('randint :',random.randint(1,100))                        # Random int:  1 <= x <= 100     # 중복 가능\n",
    "print('uniform : ',random.uniform(2.5, 10.0))                   # Random float:  2.5 <= x <= 10.0\n",
    "print('randrange1 :',random.randrange(10))                      # Integer from 0 to 9 inclusive\n",
    "print('randrange2 :',random.randrange(0, 101, 2))               # Even integer from 0 to 100 inclusive\n",
    "a= [1,2,3,4,5]\n",
    "print('choice :',random.choice(a))              # Single random element from a sequence\n",
    "random.shuffle(a)             # Shuffle a list\n",
    "print('shuffle :',a)\n",
    "print('sample : ',random.sample(a, k=2))        # Two samples without replacementprint(random.random()) \n"
   ]
  },
  {
   "cell_type": "code",
   "execution_count": 280,
   "metadata": {},
   "outputs": [
    {
     "name": "stdout",
     "output_type": "stream",
     "text": [
      "random :  0.5260377620909085\n",
      "randint :  2\n",
      "uniform :  4.664927105777998\n",
      "randrange1 : 2\n",
      "randrange2 : 90\n",
      "choice :  3\n",
      "shuffle : [5, 2, 4, 3, 1]\n",
      "sample :  [3, 4]\n"
     ]
    }
   ],
   "source": [
    "import random\n",
    "\n",
    "print('random : ', random.random())\n",
    "print(\"randint : \", random.randint(1,3))\n",
    "print(\"uniform : \",random.uniform(2.5,10.0))\n",
    "print(\"randrange1 :\", random.randrange(10))\n",
    "print('randrange2 :',random.randrange(0, 101, 10))\n",
    "a= [1,2,3,4,5]\n",
    "print(\"choice : \", random.choice(a))\n",
    "random.shuffle(a)\n",
    "print('shuffle :',a)\n",
    "print('sample : ',random.sample(a, k=2)) "
   ]
  },
  {
   "cell_type": "markdown",
   "metadata": {
    "id": "LZcmRAq-1ZJ8"
   },
   "source": [
    "**연습문제1)두 사람이 주사위를 던져 큰 수가 나오면 이기는 게임**"
   ]
  },
  {
   "cell_type": "code",
   "execution_count": null,
   "metadata": {
    "id": "4Ex3c3Zc1ZJ8",
    "outputId": "54aa43df-fa44-49df-b83f-76d7f74827fc"
   },
   "outputs": [
    {
     "name": "stdout",
     "output_type": "stream",
     "text": [
      "a :  6   b : 6\n",
      "A=B!!\n"
     ]
    }
   ],
   "source": [
    "#출력결과"
   ]
  },
  {
   "cell_type": "code",
   "execution_count": 242,
   "metadata": {
    "id": "r5h_LQvw1ZJ9"
   },
   "outputs": [
    {
     "name": "stdout",
     "output_type": "stream",
     "text": [
      "a : 4 b : 6\n",
      "b 승리\n"
     ]
    }
   ],
   "source": [
    "import random\n",
    "\n",
    "a = random.randint(1,6)\n",
    "b = random.randint(1,6)\n",
    "\n",
    "print(\"a :\",a,\"b :\",b)\n",
    "if a>b:\n",
    "    \n",
    "    print(\"a 승리\")\n",
    "elif a==b:\n",
    "    print(\"무승부\")\n",
    "else:\n",
    "    print(\"b 승리\")"
   ]
  },
  {
   "cell_type": "markdown",
   "metadata": {
    "id": "F8fQ5dHi1ZJ9"
   },
   "source": [
    "**연습문제2)로또 생성기**\n",
    "- 1~45 사이 숫자 6개 생성\n",
    "- 중복된 숫자가 있으면 안된다"
   ]
  },
  {
   "cell_type": "code",
   "execution_count": null,
   "metadata": {
    "id": "ihsdYuVI1ZJ9",
    "outputId": "bb40ff0e-3431-4f9d-eca8-8306d722ec80"
   },
   "outputs": [
    {
     "name": "stdout",
     "output_type": "stream",
     "text": [
      "[45, 3, 14, 28, 23, 9]\n"
     ]
    }
   ],
   "source": [
    "#출력결과"
   ]
  },
  {
   "cell_type": "code",
   "execution_count": 4,
   "metadata": {
    "id": "PPHZaOY21ZJ9"
   },
   "outputs": [
    {
     "name": "stdout",
     "output_type": "stream",
     "text": [
      "[15, 22, 11, 17, 17]\n"
     ]
    }
   ],
   "source": [
    "import random\n",
    "\n",
    "a=[]\n",
    "for i in range(0,6):\n",
    "    if random.randrange(1,46) in a:\n",
    "        pass\n",
    "    else:\n",
    "        a.append(random.randrange(1,46))\n",
    "    \n",
    "print(a)\n",
    "    \n",
    "    "
   ]
  },
  {
   "cell_type": "code",
   "execution_count": 2,
   "metadata": {},
   "outputs": [
    {
     "name": "stdout",
     "output_type": "stream",
     "text": [
      "[18, 9, 17, 2, 36, 30]\n"
     ]
    }
   ],
   "source": [
    "import random\n",
    "\n",
    "result=[]\n",
    "\n",
    "while len(result)<6 :\n",
    "    num = random.randrange(1,46)\n",
    "    if num not in result :\n",
    "        result.append(num)\n",
    "print(result)"
   ]
  },
  {
   "cell_type": "markdown",
   "metadata": {
    "id": "GxmhC_5Q1ZJ9"
   },
   "source": [
    "**연습문제3)Up and Down 숫자 맞추기 게임**\n",
    "- 1~100 사이의 임의의 난수 발생\n",
    "- 사용자가 숫자를 입력할 때마다 up & down, 알려주기"
   ]
  },
  {
   "cell_type": "code",
   "execution_count": null,
   "metadata": {
    "id": "D8-KSFLf1ZJ-",
    "outputId": "ba2d681b-6e97-4651-fffb-c50b28911521"
   },
   "outputs": [
    {
     "name": "stdout",
     "output_type": "stream",
     "text": [
      "1~100 숫자 입력:15\n",
      "Down\n",
      "1~100 숫자 입력:10\n",
      "Up\n",
      "1~100 숫자 입력:12\n",
      "Down\n",
      "1~100 숫자 입력:11\n",
      "정답입니다! 4 회 만에 맞췄어요.\n"
     ]
    }
   ],
   "source": [
    "#출력결과"
   ]
  },
  {
   "cell_type": "code",
   "execution_count": 271,
   "metadata": {
    "id": "h7P7vKi41ZJ-"
   },
   "outputs": [
    {
     "name": "stdout",
     "output_type": "stream",
     "text": [
      "숫자를 입력하세요 :10\n",
      "Down\n",
      "숫자를 입력하세요 :5\n",
      "Up\n",
      "숫자를 입력하세요 :8\n",
      "정답입니다.3회만에 맞췄어요.\n"
     ]
    }
   ],
   "source": [
    "# 변수 1 : 1~100 사이의 난수\n",
    "# 변수 2 :사용자가 입력한 수\n",
    "# 변수3 : count\n",
    "import random\n",
    "\n",
    "num1 = random.randrange(1,101)\n",
    "count = 0\n",
    "while True:\n",
    "    count = count+1\n",
    "    num2 = int(input(\"숫자를 입력하세요 :\"))\n",
    "    if num2==num1:\n",
    "        print(\"정답입니다.{}회만에 맞췄어요.\".format(count))\n",
    "        break\n",
    "    elif num2>num1:\n",
    "        print(\"Down\")\n",
    "    else:\n",
    "        print(\"Up\")\n",
    "    "
   ]
  },
  {
   "cell_type": "code",
   "execution_count": null,
   "metadata": {},
   "outputs": [],
   "source": []
  },
  {
   "cell_type": "markdown",
   "metadata": {
    "id": "AXONoOjD1ZJ-"
   },
   "source": [
    "## 3. datetime 모듈\n",
    "- date(날짜), time(시간)과 관련된 모듈\n",
    "- 날짜형식을 만들 때 자주 사용"
   ]
  },
  {
   "cell_type": "code",
   "execution_count": 337,
   "metadata": {
    "id": "ut0e4rWu1ZJ-"
   },
   "outputs": [
    {
     "name": "stdout",
     "output_type": "stream",
     "text": [
      "2021-05-25 15:46:40.822243\n",
      "2021년 5월 25일\n"
     ]
    }
   ],
   "source": [
    "import datetime as dt\n",
    "\n",
    "# 현재시각 출력하기\n",
    "\n",
    "now = dt.datetime.now()\n",
    "\n",
    "print(now)\n",
    "\n",
    "print(\"{}년 {}월 {}일\".format(now.year,now.month,now.day))\n",
    "\n"
   ]
  },
  {
   "cell_type": "markdown",
   "metadata": {
    "id": "BOdiPfFi1ZJ_"
   },
   "source": [
    "**원하는 형식대로 출력 : strftime()**\n",
    "- Format Code\n",
    "\n",
    "| 포맷코드 | 설명 | 예 |\n",
    "| :----: | :---- |:----:| \n",
    "|  %a |  요일을 짧게 표시 | Sun |\n",
    "|  %A |  요일을 길게 표시 | Sunday |\n",
    "|  %w |  요일을 숫자로 일요일(0)~토요일(6) | 0 |\n",
    "|  %Y |  년도를 길게표시 | 2021 |\n",
    "|  %y |  년도를 짧게표시 | 21 |\n",
    "|  %m |  월을 숫자로 표시 | 05 |\n",
    "|  %d |  일을 숫자로 표시 | 23 |\n",
    "|  %H |  시간을 24시간 표현방식으로 표시 | 18 |\n",
    "|  %I |  시간을 12시간 표현방식으로 표시 | 6 |\n",
    "|  %p |  오전(AM), 오후(PM) 표시 | PM |\n",
    "|  %M |  분을 표시 | 25 |\n",
    "|  %S |  초를 표시 | 25 |\n",
    "\n"
   ]
  },
  {
   "cell_type": "code",
   "execution_count": 371,
   "metadata": {
    "id": "fspcRJBz1ZJ_"
   },
   "outputs": [
    {
     "name": "stdout",
     "output_type": "stream",
     "text": [
      "2021년 05월 25일 15:46:40\n"
     ]
    }
   ],
   "source": [
    "now2 = now.strftime(\"%Y년 %m월 %d일 %H:%M:%S\")\n",
    "print(now2)"
   ]
  },
  {
   "cell_type": "markdown",
   "metadata": {
    "id": "m_NOTHEy1ZJ_"
   },
   "source": [
    "**시간 처리하기 : timedelta(), replace()**"
   ]
  },
  {
   "cell_type": "code",
   "execution_count": 378,
   "metadata": {
    "id": "mtpjgwcd1ZJ_"
   },
   "outputs": [
    {
     "name": "stdout",
     "output_type": "stream",
     "text": [
      "2021-05-25 16:02:34.532544\n",
      "2021-05-26 18:02:34.532544\n",
      "2025-05-25 16:02:34.532544\n",
      "2022-05-25 16:02:34.532544\n"
     ]
    }
   ],
   "source": [
    "import datetime as dt\n",
    "now = dt.datetime.now()\n",
    "print(now)\n",
    "\n",
    "\n",
    "# 특정 시간 이후의 시간 구하기\n",
    "after1 = now+dt.timedelta(days=1,hours=2)\n",
    "print(after1)\n",
    "\n",
    "#특정시간 교체하기 \n",
    "\n",
    "after2 = now.replace(year=2025)\n",
    "print(after2)\n",
    "\n",
    "after3 = now.replace(year =now.year+1)\n",
    "print(after3)"
   ]
  },
  {
   "cell_type": "code",
   "execution_count": 376,
   "metadata": {},
   "outputs": [
    {
     "name": "stdout",
     "output_type": "stream",
     "text": [
      "2025-05-25 15:58:07.835898\n",
      "2022-05-25 15:58:07.835898\n"
     ]
    }
   ],
   "source": []
  },
  {
   "cell_type": "markdown",
   "metadata": {
    "id": "QiLQYqlc1ZKA"
   },
   "source": [
    "**연습문제4) datetime의 timedelta를 사용해서 오늘로 부터  5일, 4일, 3일, 2일, 1일 전의 날짜를 화면에 출력하기** "
   ]
  },
  {
   "cell_type": "code",
   "execution_count": null,
   "metadata": {
    "id": "eiUtamEf1ZKA",
    "outputId": "993be1f5-f154-4e6f-bbdd-693d58f4606d"
   },
   "outputs": [
    {
     "name": "stdout",
     "output_type": "stream",
     "text": [
      "2021-05-19 22:20:18.257769\n",
      "2021-05-20 22:20:18.257769\n",
      "2021-05-21 22:20:18.257769\n",
      "2021-05-22 22:20:18.257769\n",
      "2021-05-23 22:20:18.257769\n"
     ]
    }
   ],
   "source": [
    "#출력결과"
   ]
  },
  {
   "cell_type": "code",
   "execution_count": 390,
   "metadata": {
    "id": "FP9umm4x1ZKA"
   },
   "outputs": [
    {
     "name": "stdout",
     "output_type": "stream",
     "text": [
      "5일전 :  2021-05-20 16:11:40.923197\n",
      "4일전 :  2021-05-21 16:11:40.923197\n",
      "3일전 :  2021-05-22 16:11:40.923197\n",
      "2일전 :  2021-05-23 16:11:40.923197\n",
      "1일전 :  2021-05-24 16:11:40.923197\n"
     ]
    }
   ],
   "source": [
    "import datetime as dt\n",
    "now = dt.datetime.now()\n",
    "\n",
    "for i in range(5,0,-1):\n",
    "    before = now-dt.timedelta(days=i)\n",
    "    print(\"{}일전 : \".format(i),before)"
   ]
  },
  {
   "cell_type": "markdown",
   "metadata": {
    "id": "PdJ-wcfp1ZKA"
   },
   "source": [
    "**연습문제5) 현재 시간을 구해서 시:분:초의 포맷으로 출력하기**"
   ]
  },
  {
   "cell_type": "code",
   "execution_count": null,
   "metadata": {
    "id": "CUhaP0Zv1ZKA",
    "outputId": "970bf6b5-ecf9-47e5-cc9a-74ae83dfbf1c"
   },
   "outputs": [
    {
     "name": "stdout",
     "output_type": "stream",
     "text": [
      "22:20:32\n"
     ]
    }
   ],
   "source": [
    "#출력결과"
   ]
  },
  {
   "cell_type": "code",
   "execution_count": 391,
   "metadata": {
    "id": "w52A7G601ZKB"
   },
   "outputs": [
    {
     "name": "stdout",
     "output_type": "stream",
     "text": [
      "16:11:40\n"
     ]
    }
   ],
   "source": [
    "import datetime as dt\n",
    "\n",
    "\n",
    "\n",
    "\n",
    "print(\"{}:{}:{}\".format(now.hour, now.minute, now.second))"
   ]
  },
  {
   "cell_type": "code",
   "execution_count": 392,
   "metadata": {},
   "outputs": [
    {
     "name": "stdout",
     "output_type": "stream",
     "text": [
      "16:18:06\n"
     ]
    }
   ],
   "source": [
    "import datetime\n",
    "\n",
    "now = datetime.datetime.now()\n",
    "print(now.strftime(\"%H:%M:%S\"))"
   ]
  },
  {
   "cell_type": "markdown",
   "metadata": {
    "id": "mnq4CAG81ZKB"
   },
   "source": [
    "## 4. time 모듈\n",
    "- 시간과 관련된 기능을 다룰 때는 time 모듈 사용.\n",
    "- time 모듈로도 날짜와 관련된 처리를 할수 있지만 datetime모듈을 사용하는 경우가 더 많음\n",
    "- 특정시간 동안 코드 진행을 정지할 때 많이 사용"
   ]
  },
  {
   "cell_type": "code",
   "execution_count": null,
   "metadata": {
    "id": "Owtt1Kfg1ZKB",
    "outputId": "80b39fd6-5a24-4f9a-f7d0-ca14786f5cba"
   },
   "outputs": [
    {
     "name": "stdout",
     "output_type": "stream",
     "text": [
      "지금부터 5초 정지합니다\n",
      "프로그램을 종료합니다.\n"
     ]
    }
   ],
   "source": [
    "import time\n",
    "print(\"지금부터 5초 정지합니다.\")\n",
    "time.sleep(5)\n",
    "print(\"프로그램을 종료합니다.\")"
   ]
  },
  {
   "cell_type": "code",
   "execution_count": 394,
   "metadata": {
    "id": "b2HQwKaL1ZKB"
   },
   "outputs": [
    {
     "name": "stdout",
     "output_type": "stream",
     "text": [
      "지금부터 5초 정지합니다.\n",
      "프로그램을 종료합니다.\n"
     ]
    }
   ],
   "source": [
    "import time\n",
    "print(\"지금부터 5초 정지합니다.\")\n",
    "time.sleep(5)\n",
    "print(\"프로그램을 종료합니다.\")"
   ]
  }
 ],
 "metadata": {
  "colab": {
   "name": "012. 모듈(표준모듈)_before.ipynb",
   "provenance": []
  },
  "kernelspec": {
   "display_name": "Python 3",
   "language": "python",
   "name": "python3"
  },
  "language_info": {
   "codemirror_mode": {
    "name": "ipython",
    "version": 3
   },
   "file_extension": ".py",
   "mimetype": "text/x-python",
   "name": "python",
   "nbconvert_exporter": "python",
   "pygments_lexer": "ipython3",
   "version": "3.8.8"
  },
  "toc": {
   "base_numbering": 1,
   "nav_menu": {},
   "number_sections": false,
   "sideBar": true,
   "skip_h1_title": false,
   "title_cell": "Table of Contents",
   "title_sidebar": "Contents",
   "toc_cell": false,
   "toc_position": {},
   "toc_section_display": true,
   "toc_window_display": false
  }
 },
 "nbformat": 4,
 "nbformat_minor": 1
}
