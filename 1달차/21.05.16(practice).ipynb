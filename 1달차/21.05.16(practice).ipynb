{
 "cells": [
  {
   "cell_type": "code",
   "execution_count": null,
   "metadata": {},
   "outputs": [],
   "source": []
  },
  {
   "cell_type": "code",
   "execution_count": 93,
   "metadata": {},
   "outputs": [
    {
     "name": "stdout",
     "output_type": "stream",
     "text": [
      "숫자를 입력하세요 : 1\n",
      "1번째입니다.\n"
     ]
    }
   ],
   "source": [
    "def fun(a):\n",
    "    return \"{}번째입니다.\".format(a)\n",
    "\n",
    "a = int(input(\"숫자를 입력하세요 : \"))\n",
    "b = fun(a)\n",
    "print(b)"
   ]
  },
  {
   "cell_type": "code",
   "execution_count": 88,
   "metadata": {},
   "outputs": [
    {
     "name": "stdout",
     "output_type": "stream",
     "text": [
      "1\n",
      "5\n",
      "[43, 37, 42, 14, 5, 17, 11, 20, 6, 29]\n",
      "['B', 'def', 5, 3, 'abc', 'A', 7, 'C', 1, 8]\n"
     ]
    }
   ],
   "source": [
    "import random\n",
    "\n",
    "print(random.randint(1,10))\n",
    "print(random.choice([1,2,3,4,5,6]))\n",
    "print(random.sample(range(1,45),10))\n",
    "\n",
    "L = [\"A\",\"B\",\"C\",\"abc\",\"def\",1,3,5,7,8]\n",
    "random.shuffle(L)\n",
    "print(L)\n"
   ]
  },
  {
   "cell_type": "code",
   "execution_count": 89,
   "metadata": {},
   "outputs": [
    {
     "name": "stdout",
     "output_type": "stream",
     "text": [
      "횟수 입력 : 3\n",
      "[11, 44, 6, 24, 26, 43]\n",
      "[15, 14, 17, 3, 32, 26]\n",
      "[21, 14, 10, 38, 4, 41]\n"
     ]
    }
   ],
   "source": [
    "count = int(input(\"횟수 입력 : \"))\n",
    "\n",
    "import random\n",
    "for i in range(1,count+1,1):\n",
    "    print(random.sample(range(1,45),6))"
   ]
  },
  {
   "cell_type": "code",
   "execution_count": 91,
   "metadata": {},
   "outputs": [
    {
     "name": "stdout",
     "output_type": "stream",
     "text": [
      "['information communication technologies polytec college']\n"
     ]
    }
   ],
   "source": [
    "# 문제 1 다음 text.txt 파일의 내용을 읽어들여 출력하시오.\n",
    "f = open(\"text.txt\", \"r\")\n",
    "str = f.readlines()\n",
    "f.close()\n",
    "print(str)"
   ]
  },
  {
   "cell_type": "code",
   "execution_count": 94,
   "metadata": {},
   "outputs": [
    {
     "name": "stdout",
     "output_type": "stream",
     "text": [
      "['information', 'communication', 'technologies', 'polytec', 'college', 'How', 'are', 'you']\n"
     ]
    }
   ],
   "source": [
    "# 문제 2 다음 temp.txt 파일의 내용을 읽어들여 다음 결과와 같이 출력하시오.\n",
    "f = open('temp.txt','r')\n",
    "str = f.readlines()\n",
    "f.close\n",
    "b = str[0].split()\n",
    "print(b)"
   ]
  },
  {
   "cell_type": "code",
   "execution_count": 95,
   "metadata": {},
   "outputs": [],
   "source": [
    "#문제 3 다음 문자열 \"Hello Python\"을 파일 python.txt에 저장하시오.\n",
    "\n",
    "f = open('python.txt','w')\n",
    "f.write(\"Hello Python\")\n",
    "f.close()"
   ]
  },
  {
   "cell_type": "code",
   "execution_count": 103,
   "metadata": {},
   "outputs": [
    {
     "name": "stdout",
     "output_type": "stream",
     "text": [
      "['information communication technologies polytec college How are you']\n"
     ]
    }
   ],
   "source": [
    "#문제 4 파일 temp.txt의 내용을 읽어들여 파일 sample.txt\"로 저장하시오.\n",
    "f = open(\"temp.txt\",'r')\n",
    "str = f.readlines()\n",
    "f.close()\n",
    "print(str)\n",
    "f= open('sample.txt','w')\n",
    "f.writelines(str)\n",
    "f.close()"
   ]
  },
  {
   "cell_type": "code",
   "execution_count": 111,
   "metadata": {},
   "outputs": [],
   "source": [
    "f = open('sample.txt','w')\n",
    "f.writelines(\"information communication technologies polytec college How are you\")\n",
    "f.close()\n"
   ]
  },
  {
   "cell_type": "code",
   "execution_count": 115,
   "metadata": {},
   "outputs": [
    {
     "ename": "UnsupportedOperation",
     "evalue": "not readable",
     "output_type": "error",
     "traceback": [
      "\u001b[1;31m---------------------------------------------------------------------------\u001b[0m",
      "\u001b[1;31mUnsupportedOperation\u001b[0m                      Traceback (most recent call last)",
      "\u001b[1;32m<ipython-input-115-3c72bacd1859>\u001b[0m in \u001b[0;36m<module>\u001b[1;34m\u001b[0m\n\u001b[0;32m      1\u001b[0m \u001b[0mf\u001b[0m \u001b[1;33m=\u001b[0m\u001b[0mopen\u001b[0m\u001b[1;33m(\u001b[0m\u001b[1;34m'python.txt'\u001b[0m\u001b[1;33m,\u001b[0m\u001b[1;34m'a'\u001b[0m\u001b[1;33m)\u001b[0m\u001b[1;33m\u001b[0m\u001b[1;33m\u001b[0m\u001b[0m\n\u001b[1;32m----> 2\u001b[1;33m \u001b[0ma\u001b[0m \u001b[1;33m=\u001b[0m \u001b[0mf\u001b[0m\u001b[1;33m.\u001b[0m\u001b[0mreadlines\u001b[0m\u001b[1;33m(\u001b[0m\u001b[1;33m)\u001b[0m\u001b[1;33m\u001b[0m\u001b[1;33m\u001b[0m\u001b[0m\n\u001b[0m\u001b[0;32m      3\u001b[0m \u001b[0mf\u001b[0m\u001b[1;33m.\u001b[0m\u001b[0mclose\u001b[0m\u001b[1;33m(\u001b[0m\u001b[1;33m)\u001b[0m\u001b[1;33m\u001b[0m\u001b[1;33m\u001b[0m\u001b[0m\n\u001b[0;32m      4\u001b[0m \u001b[0mprint\u001b[0m\u001b[1;33m(\u001b[0m\u001b[0ma\u001b[0m\u001b[1;33m)\u001b[0m\u001b[1;33m\u001b[0m\u001b[1;33m\u001b[0m\u001b[0m\n",
      "\u001b[1;31mUnsupportedOperation\u001b[0m: not readable"
     ]
    }
   ],
   "source": [
    "f =open('python.txt','a')\n",
    "a = f.readlines()\n",
    "f.close()\n",
    "print(a)"
   ]
  },
  {
   "cell_type": "code",
   "execution_count": 123,
   "metadata": {},
   "outputs": [
    {
     "name": "stdout",
     "output_type": "stream",
     "text": [
      "['10 20 30 15 24 65 28 32 56 47 22 30 24 65 84 22 14']\n",
      "['10', '20', '30', '15', '24', '65', '28', '32', '56', '47', '22', '30', '24', '65', '84', '22', '14']\n",
      "588\n"
     ]
    }
   ],
   "source": [
    "f = open(\"number.txt\",'r')\n",
    "str = f.readlines()\n",
    "f.close\n",
    "print(str)\n",
    "\n",
    "b = str[0].split()\n",
    "print(b)\n",
    "\n",
    "sum=0\n",
    "for i in b:\n",
    "    sum+=int(i)\n",
    "print(sum)"
   ]
  },
  {
   "cell_type": "code",
   "execution_count": null,
   "metadata": {},
   "outputs": [],
   "source": []
  }
 ],
 "metadata": {
  "kernelspec": {
   "display_name": "Python 3",
   "language": "python",
   "name": "python3"
  },
  "language_info": {
   "codemirror_mode": {
    "name": "ipython",
    "version": 3
   },
   "file_extension": ".py",
   "mimetype": "text/x-python",
   "name": "python",
   "nbconvert_exporter": "python",
   "pygments_lexer": "ipython3",
   "version": "3.8.5"
  }
 },
 "nbformat": 4,
 "nbformat_minor": 4
}
