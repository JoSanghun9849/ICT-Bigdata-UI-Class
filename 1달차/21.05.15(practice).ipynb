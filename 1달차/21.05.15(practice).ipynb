{
 "cells": [
  {
   "cell_type": "markdown",
   "metadata": {},
   "source": [
    "# 할당 연산자(Assignment Operators)"
   ]
  },
  {
   "cell_type": "code",
   "execution_count": 4,
   "metadata": {},
   "outputs": [],
   "source": [
    "a = 3   # 오른쪽값을 왼쪽 변수에 할당\n",
    "a+=3    # 왼쪽변수에서 오른쪽값을 더하고 결과를 왼쪽 변수에 할당\n",
    "a-=3    # 왼쪽변수에서 오른쪽값을 빼고 결과를 왼쪽 변수에 할당\n",
    "a*=3    # 왼쪽변수에서 오른쪽값을 곱하고 결과를 왼쪽 변수에 할당\n",
    "a/=3    # 왼쪽변수에서 오른쪽값을 나누고 결과를 왼쪽 변수에 할당\n",
    "a%=3    # 왼쪽변수에서 오른쪽값을 나눈 나머지의 결과를 왼쪽 변수에 할당\n",
    "a**=2   # 왼쪽변수에서 오른쪽값을 제곱연산한 결과를 왼쪽 변수에 할당\n",
    "a//=2   # 왼쪽변수에서 오른쪽값을 나눈 몫의 결과를 왼쪽 변수에 할당"
   ]
  },
  {
   "cell_type": "markdown",
   "metadata": {},
   "source": [
    "### 할당 연산자를 전에 배웠지만 생소하기 때문에 예문을 통해 손에 익혀봤다."
   ]
  },
  {
   "cell_type": "code",
   "execution_count": 3,
   "metadata": {
    "scrolled": true
   },
   "outputs": [
    {
     "name": "stdout",
     "output_type": "stream",
     "text": [
      "지폐를 투입하세요 : 1678090\n",
      "적립 : 1000000원\n",
      "교환액 :678090원\n",
      "5만원권 : 13\n",
      "만원권 : 2\n",
      "5천원권 : 1\n",
      "천원권 : 3\n",
      "나머지 금액 : 90원\n"
     ]
    }
   ],
   "source": [
    "money = int(input(\"지폐를 투입하세요 : \"))\n",
    "if money >= 1000000:\n",
    "    money1 = 1000000\n",
    "    money2 = money-money1\n",
    "    money-=1000000\n",
    "    \n",
    "    note50000 = money//50000\n",
    "    money %=50000\n",
    "    \n",
    "    note10000 = money//10000\n",
    "    money %=10000\n",
    "    \n",
    "    note5000 = money//5000\n",
    "    money %=5000\n",
    "    \n",
    "    note1000 = money//1000\n",
    "    money %=1000\n",
    "    \n",
    "    print(\"적립 : {}원\".format(money1));print(\"교환액 :{}원\".format(money2))\n",
    "    print(\"5만원권 : {}\".format(note50000))\n",
    "    print(\"만원권 : {}\".format(note10000))\n",
    "    print(\"5천원권 : {}\".format(note5000))\n",
    "    print(\"천원권 : {}\".format(note1000))\n",
    "    print(\"나머지 금액 : {}원\".format(money))\n",
    "else:\n",
    "    print(\"잔액이 부족합니다.\")"
   ]
  },
  {
   "cell_type": "code",
   "execution_count": 7,
   "metadata": {},
   "outputs": [
    {
     "data": {
      "text/plain": [
       "list"
      ]
     },
     "execution_count": 7,
     "metadata": {},
     "output_type": "execute_result"
    }
   ],
   "source": [
    "a = [1,2,3,4,5,6]\n",
    "type(a)\n",
    "a = []\n",
    "type(a)\n",
    "\n",
    "b = list()       \n",
    "type(b)\n"
   ]
  },
  {
   "cell_type": "code",
   "execution_count": 9,
   "metadata": {},
   "outputs": [
    {
     "data": {
      "text/plain": [
       "[[1, 2], [3, 4]]"
      ]
     },
     "execution_count": 9,
     "metadata": {},
     "output_type": "execute_result"
    }
   ],
   "source": [
    "a = [1,2,\"Hello\",3,4,[5,6,7]]\n",
    "a\n",
    "\n",
    "b = [[1,2],\n",
    "    [3,4]]\n",
    "b"
   ]
  },
  {
   "cell_type": "code",
   "execution_count": 13,
   "metadata": {},
   "outputs": [
    {
     "name": "stdout",
     "output_type": "stream",
     "text": [
      "1\n",
      "2\n",
      "Hello\n",
      "3\n",
      "[5, 6, 7]\n",
      "a\n"
     ]
    }
   ],
   "source": [
    "a = [1,2,\"Hello\",3,4,[5,6,7]]\n",
    "print(a[0])\n",
    "print(a[1])\n",
    "print(a[2])\n",
    "print(a[3])\n",
    "print(a[-1])\n",
    "#print(a[len(a)])  에러가 난다. 왜냐하면 해당 인덱스가 존재하지 않기 때문에\n",
    "\n",
    "a = [1,2,3,4,6,7,8,\"a\"]\n",
    "b = len(a)\n",
    "print(a[b-1])\n",
    "\n"
   ]
  },
  {
   "cell_type": "code",
   "execution_count": 14,
   "metadata": {},
   "outputs": [
    {
     "data": {
      "text/plain": [
       "3"
      ]
     },
     "execution_count": 14,
     "metadata": {},
     "output_type": "execute_result"
    }
   ],
   "source": [
    "a[0]+a[1]"
   ]
  },
  {
   "cell_type": "code",
   "execution_count": 15,
   "metadata": {},
   "outputs": [
    {
     "name": "stdout",
     "output_type": "stream",
     "text": [
      "4\n",
      "7\n"
     ]
    }
   ],
   "source": [
    "list_b = [1,2,[3,4],5,[6,7,8]]\n",
    "print(list_b[2][1])\n",
    "print(list_b[-1][1])"
   ]
  },
  {
   "cell_type": "code",
   "execution_count": 27,
   "metadata": {},
   "outputs": [
    {
     "name": "stdout",
     "output_type": "stream",
     "text": [
      "[10, 20, 30, 40]\n",
      "[20, 30, 40]\n",
      "[30, 40, 50]\n",
      "[30, 40, 50]\n"
     ]
    }
   ],
   "source": [
    "a = [10,20,30,40,50]\n",
    "print(a[:len(a)-1:1])\n",
    "a[1:]\n",
    "print(a[1:-1])\n",
    "print(a[2:])\n",
    "print(a[2:len(a):1])\n",
    "\n"
   ]
  },
  {
   "cell_type": "code",
   "execution_count": 32,
   "metadata": {},
   "outputs": [
    {
     "name": "stdout",
     "output_type": "stream",
     "text": [
      "[1, 2, 3, 4, 5, 6, 7, 8, 9, 10]\n",
      "[2, 4, 6, 8, 10]\n",
      "[1, 3, 5, 7, 9]\n",
      "[1, 3, 5, 7, 9]\n",
      "[1, 3, 5, 7, 9]\n"
     ]
    }
   ],
   "source": [
    "list_b = [1,2,3,4,5,6,7,8,9,10]\n",
    "print(list_b)\n",
    "\n",
    "print(list_b[1::2])\n",
    "print(list_b[0::2])\n",
    "print(list_b[:len(list_b):2])\n",
    "print(list_b[:10:2])"
   ]
  },
  {
   "cell_type": "code",
   "execution_count": null,
   "metadata": {},
   "outputs": [],
   "source": []
  }
 ],
 "metadata": {
  "kernelspec": {
   "display_name": "Python 3",
   "language": "python",
   "name": "python3"
  },
  "language_info": {
   "codemirror_mode": {
    "name": "ipython",
    "version": 3
   },
   "file_extension": ".py",
   "mimetype": "text/x-python",
   "name": "python",
   "nbconvert_exporter": "python",
   "pygments_lexer": "ipython3",
   "version": "3.8.5"
  }
 },
 "nbformat": 4,
 "nbformat_minor": 4
}
