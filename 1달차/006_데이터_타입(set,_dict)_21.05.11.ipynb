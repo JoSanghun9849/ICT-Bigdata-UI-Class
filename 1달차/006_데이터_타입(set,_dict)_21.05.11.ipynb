{
 "cells": [
  {
   "cell_type": "markdown",
   "metadata": {
    "id": "LR3r0A1UsaLL"
   },
   "source": [
    "# 1. 집합(set)\n",
    "\n",
    "- 집합(set)은 파이썬 2.3부터 지원하기 시작한 자료형으로, 집합에 관련된 것을 쉽게 처리하기 위해 만든 자료형이다.\n",
    "\n",
    "- 공집합을 생성할 때는 *반드시* set()으로 생성해야 한다. {}로 생성하면 빈 dictionary가 생성된다.\n",
    "\n",
    "- {1, 2, 3} -> set, {'a':1, 'b':2} -> dictionary\n",
    "\n",
    "- 집합의 연산자인 교집합, 합집합, 차집합을 모두 지원한다.\n",
    "\n",
    "- set의 특징이 2가지 있는데, 이 특징이 리스트와의 차이점이라 사용한다. 첫번째 특징이 set 자료형을 사용하는 주된 이유이다.\n",
    "\n",
    "1) set은 **원소의 중복을 허용하지 않는다.** 즉, **원소의 종류**를 나타내기 좋다.\n",
    "\n",
    "2) set은 **원소의 순서가 존재하지 않는다.** 즉, 원소의 index가 없다."
   ]
  },
  {
   "cell_type": "code",
   "execution_count": 5,
   "metadata": {
    "id": "G-JsrVvPsaLS"
   },
   "outputs": [
    {
     "name": "stdout",
     "output_type": "stream",
     "text": [
      "{1, 2, 3, 4}\n"
     ]
    }
   ],
   "source": [
    "my_set = set()  # set과 typle은 한끝 차이!! 유념하기\n",
    "type(my_set)\n",
    "\n",
    "my_set = {1,2,3,4}\n",
    "print(my_set)\n"
   ]
  },
  {
   "cell_type": "code",
   "execution_count": 7,
   "metadata": {},
   "outputs": [
    {
     "ename": "TypeError",
     "evalue": "'set' object is not subscriptable",
     "output_type": "error",
     "traceback": [
      "\u001b[1;31m---------------------------------------------------------------------------\u001b[0m",
      "\u001b[1;31mTypeError\u001b[0m                                 Traceback (most recent call last)",
      "\u001b[1;32m<ipython-input-7-3f6e597783d0>\u001b[0m in \u001b[0;36m<module>\u001b[1;34m\u001b[0m\n\u001b[0;32m      1\u001b[0m \u001b[0mmy_set\u001b[0m \u001b[1;33m=\u001b[0m \u001b[1;33m{\u001b[0m\u001b[1;36m1\u001b[0m\u001b[1;33m,\u001b[0m\u001b[1;36m2\u001b[0m\u001b[1;33m,\u001b[0m\u001b[1;36m2\u001b[0m\u001b[1;33m,\u001b[0m\u001b[1;36m2\u001b[0m\u001b[1;33m,\u001b[0m\u001b[1;36m2\u001b[0m\u001b[1;33m,\u001b[0m\u001b[1;36m2\u001b[0m\u001b[1;33m,\u001b[0m\u001b[1;36m2\u001b[0m\u001b[1;33m,\u001b[0m\u001b[1;36m2\u001b[0m\u001b[1;33m,\u001b[0m\u001b[1;36m2\u001b[0m\u001b[1;33m,\u001b[0m\u001b[1;36m2\u001b[0m\u001b[1;33m,\u001b[0m\u001b[1;36m3\u001b[0m\u001b[1;33m,\u001b[0m\u001b[1;36m3\u001b[0m\u001b[1;33m,\u001b[0m\u001b[1;36m3\u001b[0m\u001b[1;33m,\u001b[0m\u001b[1;36m3\u001b[0m\u001b[1;33m,\u001b[0m\u001b[1;36m3\u001b[0m\u001b[1;33m,\u001b[0m\u001b[1;36m3\u001b[0m\u001b[1;33m,\u001b[0m\u001b[1;36m4\u001b[0m\u001b[1;33m}\u001b[0m \u001b[1;31m# set은 중복을 허용하지 않는다.\u001b[0m\u001b[1;33m\u001b[0m\u001b[1;33m\u001b[0m\u001b[0m\n\u001b[0;32m      2\u001b[0m \u001b[0mmy_set\u001b[0m\u001b[1;33m\u001b[0m\u001b[1;33m\u001b[0m\u001b[0m\n\u001b[1;32m----> 3\u001b[1;33m \u001b[0mmy_set\u001b[0m\u001b[1;33m[\u001b[0m\u001b[1;36m0\u001b[0m\u001b[1;33m]\u001b[0m\u001b[1;33m\u001b[0m\u001b[1;33m\u001b[0m\u001b[0m\n\u001b[0m",
      "\u001b[1;31mTypeError\u001b[0m: 'set' object is not subscriptable"
     ]
    }
   ],
   "source": [
    "my_set = {1,2,2,2,2,2,2,2,2,2,3,3,3,3,3,3,4} # set은 중복을 허용하지 않는다.\n",
    "my_set\n",
    "\n",
    "my_set[0]      # set은 인덱스가 존재하지 않는다!"
   ]
  },
  {
   "cell_type": "markdown",
   "metadata": {
    "id": "RTE9cMNKsaLS"
   },
   "source": [
    "## 1.1 set의 연산\n",
    "- 교집합, 합집합, 차집합 등 지원"
   ]
  },
  {
   "cell_type": "code",
   "execution_count": 12,
   "metadata": {
    "id": "sMHJmJw9saLT"
   },
   "outputs": [
    {
     "name": "stdout",
     "output_type": "stream",
     "text": [
      "{1, 2, 3, 4, 5, 6, 7}\n",
      "{3, 4, 5}\n",
      "{1, 2}\n",
      "{6, 7}\n"
     ]
    }
   ],
   "source": [
    "s1 = {1, 2, 3, 4, 5}\n",
    "s2 = {3, 4, 5, 6, 7}\n",
    "\n",
    "print(s1.union(s2))  # union은 합집합!\n",
    "\n",
    "print(s1.intersection(s2))   # intersection은 교집합!\n",
    "\n",
    "print(s1.difference(s2))    # difference는 차집합\n",
    "print(s2.difference(s1))\n"
   ]
  },
  {
   "cell_type": "markdown",
   "metadata": {
    "id": "TRnIHaQbsaLT"
   },
   "source": [
    "## 1.2 집합 관련 함수"
   ]
  },
  {
   "cell_type": "markdown",
   "metadata": {
    "id": "vnbpZE_NsaLU"
   },
   "source": [
    "#### 집합에 원소 하나 추가하기 add()"
   ]
  },
  {
   "cell_type": "code",
   "execution_count": 15,
   "metadata": {
    "id": "vbXattsUsaLU"
   },
   "outputs": [
    {
     "name": "stdout",
     "output_type": "stream",
     "text": [
      "{1}\n"
     ]
    }
   ],
   "source": [
    "s = set()\n",
    "\n",
    "s.add(1)\n",
    "print(s)"
   ]
  },
  {
   "cell_type": "markdown",
   "metadata": {
    "id": "P-Qd02rdsaLU"
   },
   "source": [
    "#### 집합에 여러 원소 추가하기 update()"
   ]
  },
  {
   "cell_type": "code",
   "execution_count": 17,
   "metadata": {
    "id": "dIeSCoc_saLU"
   },
   "outputs": [
    {
     "name": "stdout",
     "output_type": "stream",
     "text": [
      "{1, 2, 3, 4, 5}\n"
     ]
    }
   ],
   "source": [
    "s = {1,2,3}\n",
    "\n",
    "s. update({4,5})\n",
    "print(s)"
   ]
  },
  {
   "cell_type": "markdown",
   "metadata": {
    "id": "vMWZe1BosaLV"
   },
   "source": [
    "#### 집합에서 원소 제거하기 remove()"
   ]
  },
  {
   "cell_type": "code",
   "execution_count": 18,
   "metadata": {
    "id": "zUvFz3yjsaLV"
   },
   "outputs": [
    {
     "data": {
      "text/plain": [
       "{1, 2, 4, 5}"
      ]
     },
     "execution_count": 18,
     "metadata": {},
     "output_type": "execute_result"
    }
   ],
   "source": [
    "s.remove(3)\n",
    "s"
   ]
  },
  {
   "cell_type": "markdown",
   "metadata": {
    "id": "ive5m25RsaLV"
   },
   "source": [
    " "
   ]
  },
  {
   "cell_type": "markdown",
   "metadata": {
    "id": "f0NnDSwBsaLV"
   },
   "source": [
    "  "
   ]
  },
  {
   "cell_type": "markdown",
   "metadata": {
    "id": "FNABUp3lsaLW"
   },
   "source": [
    "# 2. Dictionary (**)\n",
    "\n",
    "\n",
    "\n",
    "**파이썬에서 리스트와 함께 굉장히 많이 사용되는 구조.**\n",
    "\n",
    "- key - value 방법을 통해 저장한다.\n",
    "\n",
    "| 자료형 | 의미 | 가리키는 위치 | 선언형식 |\n",
    "|:---:|:---|:---:|---|\n",
    "| list | 인덱스를 기반으로 값을 저장 | 인덱스 | a = [ ] |\n",
    "| dictionary | 키를 기반으로 값을 저장 | 키 | a = { } |\n",
    "\n",
    "\n",
    "- dictionary를 표현할 때는 {key : value, key2 : value2, ... } 형태로 표현한다.\n",
    "\n",
    "- dict_a = {'Korea' : 'Seoul', 'Japan' : 'Tokyo', 'Chana' : 'Beijing'}\n",
    "\n",
    "- 순서를 따지지 않음. 즉, 인덱스가 없음\n",
    "\n",
    "- **key : immutable / value : mutable** \n",
    "\n",
    "- 파이썬에서 가장 자주쓰는 데이터 형 중 하나"
   ]
  },
  {
   "cell_type": "markdown",
   "metadata": {
    "id": "kPG2i1cusaLW"
   },
   "source": [
    "## 2.1 dictionary 기본사용법"
   ]
  },
  {
   "cell_type": "markdown",
   "metadata": {
    "id": "_-9OqvGYsaLW"
   },
   "source": [
    "### 2.1.1 dictionary 생성"
   ]
  },
  {
   "cell_type": "code",
   "execution_count": 20,
   "metadata": {
    "id": "VwRTswCAsaLW"
   },
   "outputs": [
    {
     "data": {
      "text/plain": [
       "dict"
      ]
     },
     "execution_count": 20,
     "metadata": {},
     "output_type": "execute_result"
    }
   ],
   "source": [
    "a = {\"korea\" : \"Seoul\",     # 콜론을 기준으로 왼쪽은 key, 오른쪽은 value\n",
    "     \"Japan\" : \"Tokyo\",     # key는 리스트의 인덱스와 비슷하다.\n",
    "     \"China\" : \"Beijing\"}\n",
    "\n",
    "type(a)"
   ]
  },
  {
   "cell_type": "code",
   "execution_count": 26,
   "metadata": {},
   "outputs": [
    {
     "data": {
      "text/plain": [
       "{'korea': 'Busan',\n",
       " 'Japan': 'Tokyo',\n",
       " 'China': 'Beijing',\n",
       " 'Canada': 'Ottawa',\n",
       " 'Korea': 'Seoul'}"
      ]
     },
     "execution_count": 26,
     "metadata": {},
     "output_type": "execute_result"
    }
   ],
   "source": [
    "a['Canada'] = 'Ottawa'\n",
    "\n",
    "a[\"korea\"] = \"Busan\"\n",
    "\n",
    "a[\"Korea\"] = \"Seoul\"\n",
    "a"
   ]
  },
  {
   "cell_type": "markdown",
   "metadata": {
    "id": "ECG3eNMwsaLX"
   },
   "source": [
    "### 2.1.2 dictionary 원소 추가"
   ]
  },
  {
   "cell_type": "code",
   "execution_count": null,
   "metadata": {
    "id": "BvJre88xsaLX"
   },
   "outputs": [],
   "source": []
  },
  {
   "cell_type": "markdown",
   "metadata": {
    "id": "U__QJXPMsaLX"
   },
   "source": [
    "### 2.1.3 dictionary 원소 삭제"
   ]
  },
  {
   "cell_type": "code",
   "execution_count": 27,
   "metadata": {
    "id": "Rzlgvm2isaLX"
   },
   "outputs": [
    {
     "data": {
      "text/plain": [
       "{'korea': 'Busan', 'China': 'Beijing', 'Canada': 'Ottawa', 'Korea': 'Seoul'}"
      ]
     },
     "execution_count": 27,
     "metadata": {},
     "output_type": "execute_result"
    }
   ],
   "source": [
    "del a[\"Japan\"]     # 원소 삭제 시 key값만 입력하면 된다.\n",
    "a"
   ]
  },
  {
   "cell_type": "markdown",
   "metadata": {
    "id": "DUMMQBj_saLX"
   },
   "source": [
    "### 2.1.4 dictionary 접근"
   ]
  },
  {
   "cell_type": "code",
   "execution_count": 30,
   "metadata": {
    "id": "i9VQvWbusaLY"
   },
   "outputs": [
    {
     "data": {
      "text/plain": [
       "'Seoul'"
      ]
     },
     "execution_count": 30,
     "metadata": {},
     "output_type": "execute_result"
    }
   ],
   "source": [
    "a['Korea']"
   ]
  },
  {
   "cell_type": "code",
   "execution_count": 32,
   "metadata": {},
   "outputs": [
    {
     "ename": "KeyError",
     "evalue": "2",
     "output_type": "error",
     "traceback": [
      "\u001b[1;31m---------------------------------------------------------------------------\u001b[0m",
      "\u001b[1;31mKeyError\u001b[0m                                  Traceback (most recent call last)",
      "\u001b[1;32m<ipython-input-32-c732a4d9a307>\u001b[0m in \u001b[0;36m<module>\u001b[1;34m\u001b[0m\n\u001b[0;32m      1\u001b[0m \u001b[0mb\u001b[0m \u001b[1;33m=\u001b[0m \u001b[1;33m{\u001b[0m\u001b[1;36m0\u001b[0m \u001b[1;33m:\u001b[0m \u001b[1;36m1\u001b[0m\u001b[1;33m,\u001b[0m \u001b[1;36m1\u001b[0m \u001b[1;33m:\u001b[0m \u001b[1;36m6\u001b[0m\u001b[1;33m,\u001b[0m \u001b[1;36m8\u001b[0m \u001b[1;33m:\u001b[0m \u001b[1;36m9\u001b[0m\u001b[1;33m}\u001b[0m\u001b[1;33m\u001b[0m\u001b[1;33m\u001b[0m\u001b[0m\n\u001b[0;32m      2\u001b[0m \u001b[0mb\u001b[0m\u001b[1;33m[\u001b[0m\u001b[1;36m0\u001b[0m\u001b[1;33m]\u001b[0m            \u001b[1;31m#여기서 b[0]은 인덱스가 아니라 key값 0을 말한다.\u001b[0m\u001b[1;33m\u001b[0m\u001b[1;33m\u001b[0m\u001b[0m\n\u001b[1;32m----> 3\u001b[1;33m \u001b[0mb\u001b[0m\u001b[1;33m[\u001b[0m\u001b[1;36m2\u001b[0m\u001b[1;33m]\u001b[0m\u001b[1;33m\u001b[0m\u001b[1;33m\u001b[0m\u001b[0m\n\u001b[0m",
      "\u001b[1;31mKeyError\u001b[0m: 2"
     ]
    }
   ],
   "source": [
    "b = {0 : 1, 1 : 6, 8 : 9}   \n",
    "b[0]            #여기서 b[0]은 인덱스가 아니라 key값 0을 말한다.\n",
    "b[2]            # 당연히 key '2' 값이 존재 하지 않기 때문에 에러가 난다.\n"
   ]
  },
  {
   "cell_type": "markdown",
   "metadata": {
    "id": "QsrVxBwqsaLY"
   },
   "source": [
    "### 2.1.5 dictionary 수정\n",
    "- dict.update(수정할 dict)"
   ]
  },
  {
   "cell_type": "code",
   "execution_count": 34,
   "metadata": {},
   "outputs": [
    {
     "data": {
      "text/plain": [
       "{'korea': 'Suncheon', 'China': 'Beijing', 'Canada': 'Ottawa', 'Korea': 'Seoul'}"
      ]
     },
     "execution_count": 34,
     "metadata": {},
     "output_type": "execute_result"
    }
   ],
   "source": [
    "a[\"korea\"] = \"Suncheon\"\n",
    "a"
   ]
  },
  {
   "cell_type": "code",
   "execution_count": 38,
   "metadata": {},
   "outputs": [
    {
     "name": "stdout",
     "output_type": "stream",
     "text": [
      "{'a': 1, 'b': 7, 'c': 10, 'd': 13}\n"
     ]
    },
    {
     "data": {
      "text/plain": [
       "{'a': 1, 'b': 2, 'c': 3, 'd': 4, 'e': 5, 'f': 6}"
      ]
     },
     "execution_count": 38,
     "metadata": {},
     "output_type": "execute_result"
    }
   ],
   "source": [
    "b = {\"a\" : 5, \n",
    "     \"b\" : 7, \n",
    "     \"c\" : 10, \n",
    "     \"d\" : 13}\n",
    "\n",
    "b[\"a\"] = 1\n",
    "print(b)\n",
    "\n",
    "b.update({\"a\" : 1,     # \n",
    "     \"b\" : 2, \n",
    "     \"c\" : 3, \n",
    "     \"d\" : 14})\n",
    "b.update({\"a\" : 1,     \n",
    "     \"b\" : 2, \n",
    "     \"c\" : 3, \n",
    "     \"d\" : 4,\n",
    "     \"e\" : 5,\n",
    "     \"f\" : 6})\n",
    "b"
   ]
  },
  {
   "cell_type": "code",
   "execution_count": 44,
   "metadata": {
    "id": "U33Rp_mrsaLY"
   },
   "outputs": [
    {
     "name": "stdout",
     "output_type": "stream",
     "text": [
      "name :  BTS\n",
      "member : 7명\n",
      "데뷔곡 :  데인저\n",
      "대표곡 :  ['IDOL', '봄날', '불타오르네', 'Dynamite']\n",
      "name :  환불원정대\n",
      "member :  3\n",
      "reader :  RM\n"
     ]
    }
   ],
   "source": [
    "singer = {\n",
    "    'name' : 'BTS',\n",
    "    'member' : 7,\n",
    "    '데뷔곡' : '데인저',\n",
    "    '대표곡' : ['IDOL','봄날','불타오르네','Dynamite']\n",
    "    \n",
    "}\n",
    "\n",
    "print(\"name : \", singer['name'])\n",
    "print(\"member : {}명\".format(singer['member']))\n",
    "print(\"데뷔곡 : \", singer['데뷔곡'])\n",
    "print(\"대표곡 : \", singer['대표곡'])\n",
    "\n",
    "singer[\"name\"] = \"환불원정대\"\n",
    "print(\"name : \",singer[\"name\"])\n",
    "\n",
    "singer[\"member\"] = 3\n",
    "singer[\"reader\"] = \"RM\"\n",
    "\n",
    "print(\"member : \",singer[\"member\"])\n",
    "print(\"reader : \",singer[\"reader\"])\n"
   ]
  },
  {
   "cell_type": "code",
   "execution_count": 47,
   "metadata": {},
   "outputs": [
    {
     "name": "stdout",
     "output_type": "stream",
     "text": [
      "member :  3\n",
      "reader :  RM\n"
     ]
    }
   ],
   "source": [
    "singer.update({'name' : 'BTS',\n",
    "    'member' : 3,\n",
    "    \"reader\" : \"RM\",\n",
    "    '데뷔곡' : '데인저',\n",
    "    '대표곡' : ['IDOL','봄날','불타오르네','Dynamite']})\n",
    "\n",
    "print(\"member : \",singer[\"member\"])\n",
    "print(\"reader : \",singer[\"reader\"])"
   ]
  },
  {
   "cell_type": "code",
   "execution_count": 52,
   "metadata": {},
   "outputs": [
    {
     "name": "stdout",
     "output_type": "stream",
     "text": [
      "봄날\n"
     ]
    }
   ],
   "source": [
    "print(singer[\"대표곡\"][1])"
   ]
  },
  {
   "cell_type": "code",
   "execution_count": 63,
   "metadata": {},
   "outputs": [
    {
     "name": "stdout",
     "output_type": "stream",
     "text": [
      "이름 :  조상훈\n",
      "직업 :  무직\n",
      "신용등급 :  B+\n",
      "이름 :  조상훈\n",
      "주소 :  서울특별시 종로구 혜화동 **\n",
      "직업 :  프로그래머\n",
      "신용등급 :  A\n"
     ]
    }
   ],
   "source": [
    "a = {\"이름\" : '조상훈',\n",
    "     \"주소\" : \"순천시 구암 3길 22 송보아파트 106동 405호\",\n",
    "     \"직업\" : \"무직\",\n",
    "     \"신용등급\" : \"B+\",\n",
    "     \"자산\" : \"2000만원\"}\n",
    "\n",
    "print(\"이름 : \",a[\"이름\"])\n",
    "print(\"직업 : \",a[\"직업\"])\n",
    "print(\"신용등급 : \",a[\"신용등급\"])\n",
    "\n",
    "a.update({\"이름\" : '조상훈',\n",
    "     \"주소\" : \"서울특별시 종로구 혜화동 **\",\n",
    "     \"직업\" : \"프로그래머\",\n",
    "     \"신용등급\" : \"A\",\n",
    "     \"자산\" : \"2000만원\"})\n",
    "\n",
    "print(\"이름 : \",a[\"이름\"])\n",
    "print(\"주소 : \",a[\"주소\"])\n",
    "print(\"직업 : \",a[\"직업\"])\n",
    "print(\"신용등급 : \",a[\"신용등급\"])"
   ]
  },
  {
   "cell_type": "code",
   "execution_count": 72,
   "metadata": {},
   "outputs": [
    {
     "name": "stdout",
     "output_type": "stream",
     "text": [
      "dict_keys(['name', 'member', '데뷔곡', '대표곡'])\n",
      "['name', 'member', '데뷔곡', '대표곡']\n",
      "name\n",
      "member\n",
      "데뷔곡\n",
      "대표곡\n"
     ]
    }
   ],
   "source": [
    "singer = {\n",
    "    'name' : 'BTS',\n",
    "    'member' : 7,\n",
    "    '데뷔곡' : '데인저',\n",
    "    '대표곡' : ['IDOL','봄날','불타오르네','Dynamite']\n",
    "    \n",
    "}\n",
    "\n",
    "singer.keys()  # key(키)가 무엇이 있는지 확인할 수 있는 문법\n",
    "\n",
    "\n",
    "print(singer.keys())\n",
    "a = list(singer.keys())   # 키 항목들을 가져와서 리스팅\n",
    "print(a)\n",
    "\n",
    "for i in range(0,len(a),1):\n",
    "    print(a[i])\n"
   ]
  },
  {
   "cell_type": "code",
   "execution_count": null,
   "metadata": {},
   "outputs": [],
   "source": []
  },
  {
   "cell_type": "markdown",
   "metadata": {
    "id": "qpxQsvPOsaLY"
   },
   "source": [
    "> **TIP** dictionary를 만들 때 key는 중복이 있으면 절대 안된다."
   ]
  },
  {
   "cell_type": "markdown",
   "metadata": {
    "id": "8-v_ednRsaLY"
   },
   "source": [
    "## 2.2 dictionary 관련 함수"
   ]
  },
  {
   "cell_type": "markdown",
   "metadata": {
    "id": "dDZxNNdfsaLY"
   },
   "source": [
    "### 2.2.1 dictionary의 모든 key값들 보기 keys()"
   ]
  },
  {
   "cell_type": "code",
   "execution_count": null,
   "metadata": {
    "id": "sQr-j6_QsaLZ"
   },
   "outputs": [],
   "source": []
  },
  {
   "cell_type": "markdown",
   "metadata": {
    "id": "wUyfpfwGsaLZ"
   },
   "source": [
    "### 2.2.2 dictionary의 모든 value들 보기 values()"
   ]
  },
  {
   "cell_type": "code",
   "execution_count": 76,
   "metadata": {
    "id": "wvgOkrnHsaLZ"
   },
   "outputs": [
    {
     "name": "stdout",
     "output_type": "stream",
     "text": [
      "dict_values(['BTS', 7, '데인저', ['IDOL', '봄날', '불타오르네', 'Dynamite']])\n",
      "['BTS', 7, '데인저', ['IDOL', '봄날', '불타오르네', 'Dynamite']]\n",
      "BTS\n",
      "7\n",
      "데인저\n",
      "['IDOL', '봄날', '불타오르네', 'Dynamite']\n"
     ]
    }
   ],
   "source": [
    "singer.values()\n",
    "\n",
    "print(singer.values())\n",
    "\n",
    "b = list(singer.values())\n",
    "print(b)\n",
    "\n",
    "for i in range(0,4,1):\n",
    "    if type(b[i]) ==list:\n",
    "        for j in range(0,4,1):\n",
    "            print()"
   ]
  },
  {
   "cell_type": "markdown",
   "metadata": {
    "id": "bUYIlg_2saLZ"
   },
   "source": [
    "### 2.2.3 dictionary의 모든 key, value 쌍 보기 items() -> tuple 형태로 반환된다"
   ]
  },
  {
   "cell_type": "code",
   "execution_count": 77,
   "metadata": {
    "id": "_HijbQeasaLZ"
   },
   "outputs": [
    {
     "data": {
      "text/plain": [
       "[('name', 'BTS'),\n",
       " ('member', 7),\n",
       " ('데뷔곡', '데인저'),\n",
       " ('대표곡', ['IDOL', '봄날', '불타오르네', 'Dynamite'])]"
      ]
     },
     "execution_count": 77,
     "metadata": {},
     "output_type": "execute_result"
    }
   ],
   "source": [
    "list(singer.items())       # items()"
   ]
  },
  {
   "cell_type": "markdown",
   "metadata": {
    "id": "lgsY92iksaLZ"
   },
   "source": [
    "### 2.2.4 dictionary의 원소 가져오기 get() : key로 value 구하기"
   ]
  },
  {
   "cell_type": "code",
   "execution_count": 79,
   "metadata": {
    "id": "r2crHWp9saLa",
    "outputId": "42aa51ff-dae6-4c1f-d317-2b9266ab641e"
   },
   "outputs": [
    {
     "data": {
      "text/plain": [
       "'BTS'"
      ]
     },
     "execution_count": 79,
     "metadata": {},
     "output_type": "execute_result"
    }
   ],
   "source": [
    "singer = {\n",
    "    'name' : 'BTS',\n",
    "    'member' : 7,\n",
    "    '데뷔곡' : '데인저',\n",
    "    '대표곡' : ['IDOL','봄날','불타오르네','Dynamite']\n",
    "    \n",
    "}\n",
    "\n",
    "singer.get(\"name\")\n",
    "singer[\"name\"]"
   ]
  },
  {
   "cell_type": "markdown",
   "metadata": {
    "id": "JlpOlAPtsaLa"
   },
   "source": [
    "### 2.2.5 dictionary에 해당 key값이 존재하는지 확인하기 in\n",
    "\n",
    "\n",
    "- in이라는 operator는 dictionary뿐만 아니라 모든 연속형 데이터 타입에 사용할 수 있다.\n",
    "\n",
    "\n",
    "- dictionary의 경우에는 key를 대상으로 하고, 리스트, 튜플, 집합, 문자열에 대해서는 해당 원소가 존재하는지 찾아서 True / False 를 알려준다."
   ]
  },
  {
   "cell_type": "code",
   "execution_count": 82,
   "metadata": {},
   "outputs": [
    {
     "data": {
      "text/plain": [
       "False"
      ]
     },
     "execution_count": 82,
     "metadata": {},
     "output_type": "execute_result"
    }
   ],
   "source": [
    "\"소속사\" in singer"
   ]
  },
  {
   "cell_type": "code",
   "execution_count": null,
   "metadata": {},
   "outputs": [],
   "source": []
  }
 ],
 "metadata": {
  "colab": {
   "name": "006. 데이터 타입(set, dict)_before.ipynb",
   "provenance": []
  },
  "kernelspec": {
   "display_name": "Python 3",
   "language": "python",
   "name": "python3"
  },
  "language_info": {
   "codemirror_mode": {
    "name": "ipython",
    "version": 3
   },
   "file_extension": ".py",
   "mimetype": "text/x-python",
   "name": "python",
   "nbconvert_exporter": "python",
   "pygments_lexer": "ipython3",
   "version": "3.8.5"
  },
  "toc": {
   "base_numbering": 1,
   "nav_menu": {},
   "number_sections": false,
   "sideBar": true,
   "skip_h1_title": false,
   "title_cell": "Table of Contents",
   "title_sidebar": "Contents",
   "toc_cell": false,
   "toc_position": {
    "height": "calc(100% - 180px)",
    "left": "10px",
    "top": "150px",
    "width": "304.475px"
   },
   "toc_section_display": true,
   "toc_window_display": false
  }
 },
 "nbformat": 4,
 "nbformat_minor": 1
}
