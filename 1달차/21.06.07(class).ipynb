{
 "cells": [
  {
   "cell_type": "markdown",
   "metadata": {
    "id": "Wdd6jiKD8phS"
   },
   "source": [
    "# Numpy\n",
    "- 수학, 과학 계산용 패키지\n",
    "- 성능 : 파이썬 리스트보다 빠름\n",
    "- 메모리사이즈 : 파이썬 리스트보다 적은 메모리 사용\n",
    "- 빌트인 함수 : 선형대수, 통계관련 여러 함수 내장\n",
    "- 1차원 : 벡터\n",
    "- 2차원 : 행렬"
   ]
  },
  {
   "cell_type": "markdown",
   "metadata": {
    "id": "YF6gKv_yLvyA"
   },
   "source": [
    "## 1. array"
   ]
  },
  {
   "cell_type": "code",
   "execution_count": 1,
   "metadata": {},
   "outputs": [
    {
     "name": "stdout",
     "output_type": "stream",
     "text": [
      "Requirement already satisfied: numpy in c:\\users\\josanghun\\anaconda3\\lib\\site-packages (1.20.1)\n"
     ]
    }
   ],
   "source": [
    "!pip install numpy"
   ]
  },
  {
   "cell_type": "code",
   "execution_count": 223,
   "metadata": {
    "id": "0_Kg9xjRLmo-"
   },
   "outputs": [],
   "source": [
    "import numpy as np"
   ]
  },
  {
   "cell_type": "markdown",
   "metadata": {
    "id": "e_ttjq8eL4yg"
   },
   "source": [
    "### 1.1. np.array()로 생성하기"
   ]
  },
  {
   "cell_type": "code",
   "execution_count": 224,
   "metadata": {
    "id": "mwQN0_UzMGPO"
   },
   "outputs": [
    {
     "name": "stdout",
     "output_type": "stream",
     "text": [
      "[1 2 3 4] <class 'numpy.ndarray'>\n"
     ]
    },
    {
     "data": {
      "text/plain": [
       "array([1, 2, 3, 4])"
      ]
     },
     "execution_count": 224,
     "metadata": {},
     "output_type": "execute_result"
    }
   ],
   "source": [
    "arr1 = np.array([1,2,3,4])          #1차원 배열(벡터)\n",
    "print(arr1,type(arr1))\n",
    "arr1"
   ]
  },
  {
   "cell_type": "code",
   "execution_count": 9,
   "metadata": {
    "id": "pK4LQp_feRLr"
   },
   "outputs": [
    {
     "data": {
      "text/plain": [
       "[1, 2, 3, 4]"
      ]
     },
     "execution_count": 9,
     "metadata": {},
     "output_type": "execute_result"
    }
   ],
   "source": [
    "[1,2,3,4]\n"
   ]
  },
  {
   "cell_type": "code",
   "execution_count": 12,
   "metadata": {
    "id": "MjuXGVo08phW"
   },
   "outputs": [
    {
     "data": {
      "text/plain": [
       "array([[1, 2, 3, 4],\n",
       "       [5, 6, 7, 8]])"
      ]
     },
     "execution_count": 12,
     "metadata": {},
     "output_type": "execute_result"
    }
   ],
   "source": [
    "arr2 = np.array([[1,2,3,4],[5,6,7,8]])          #2차원 배열\n",
    "arr2"
   ]
  },
  {
   "cell_type": "code",
   "execution_count": 16,
   "metadata": {
    "id": "JvsXql8XMzSQ"
   },
   "outputs": [
    {
     "name": "stdout",
     "output_type": "stream",
     "text": [
      "arr2의 ndim : 2\n",
      "arr2의 shape : (2, 4)\n",
      "arr2의 size : 8\n"
     ]
    }
   ],
   "source": [
    "print('arr2의 ndim :', arr2.ndim ) # arr2의 차원\n",
    "print('arr2의 shape :',arr2.shape) # arr2의 shape\n",
    "print('arr2의 size :',arr2.size ) # arr2의 원소 갯수\n"
   ]
  },
  {
   "cell_type": "markdown",
   "metadata": {
    "id": "n83ZdpYzMWCh"
   },
   "source": [
    "### 1.2. list 생성하기"
   ]
  },
  {
   "cell_type": "code",
   "execution_count": 17,
   "metadata": {
    "id": "3FoRNCmxMa96"
   },
   "outputs": [],
   "source": [
    "mylist1 = [1,2,3,4]\n",
    "mylist2 = [[1,2,3,4],[5,6,7,8]]"
   ]
  },
  {
   "cell_type": "code",
   "execution_count": 18,
   "metadata": {
    "id": "lk6wwjOEMcqN"
   },
   "outputs": [
    {
     "data": {
      "text/plain": [
       "array([1, 2, 3, 4])"
      ]
     },
     "execution_count": 18,
     "metadata": {},
     "output_type": "execute_result"
    }
   ],
   "source": [
    "arr1 = np.array(mylist1)\n",
    "arr1"
   ]
  },
  {
   "cell_type": "code",
   "execution_count": 19,
   "metadata": {
    "id": "9aeUwDAkMhok"
   },
   "outputs": [
    {
     "data": {
      "text/plain": [
       "array([[1, 2, 3, 4],\n",
       "       [5, 6, 7, 8]])"
      ]
     },
     "execution_count": 19,
     "metadata": {},
     "output_type": "execute_result"
    }
   ],
   "source": [
    "arr2 = np.array(mylist2)\n",
    "arr2"
   ]
  },
  {
   "cell_type": "code",
   "execution_count": null,
   "metadata": {
    "id": "uj3yIOjtMjjB"
   },
   "outputs": [],
   "source": []
  },
  {
   "cell_type": "markdown",
   "metadata": {
    "id": "Jlkq_eLvZAXJ"
   },
   "source": [
    "### 1.3.  np.arange()로 생성하기"
   ]
  },
  {
   "cell_type": "markdown",
   "metadata": {
    "id": "7ASNxnlzZMiI"
   },
   "source": [
    "- 우리는 순차적인 값을 생성할 때가 많다.\n",
    "\n",
    "1. 회원에 대한 가입 번호 부여 (1번 회원부터 순차적으로~)\n",
    "2. 100개 한정 판매 상품에 대한 고유 번호 부여\n",
    "\n",
    "등등.. 이 밖에도 데이터 관리를 위한 인덱스를 차례대로 부여하는 것은 매우 흔한 일이다.\n",
    "(심지어, 엑셀에서도 왼쪽 행에 1번부터~ 쭈욱 부여된다.)"
   ]
  },
  {
   "cell_type": "markdown",
   "metadata": {
    "id": "JJMFhTTMadAu"
   },
   "source": [
    "#### 1.3.1. 순서대로 리스트에 값을 생성하려면?"
   ]
  },
  {
   "cell_type": "markdown",
   "metadata": {
    "id": "nyBZLk2oc2sb"
   },
   "source": [
    "1~10까지 값을 생성하려면?"
   ]
  },
  {
   "cell_type": "code",
   "execution_count": 22,
   "metadata": {
    "id": "DUPdcWj3b8YI"
   },
   "outputs": [
    {
     "data": {
      "text/plain": [
       "[1, 2, 3, 4, 5, 6, 7, 8, 9, 10]"
      ]
     },
     "execution_count": 22,
     "metadata": {},
     "output_type": "execute_result"
    }
   ],
   "source": [
    "arr = [1,2,3,4,5,6,7,8,9,10]\n",
    "arr\n",
    "\n",
    "arr2 = [x for x in range(1,11)]\n",
    "arr2"
   ]
  },
  {
   "cell_type": "markdown",
   "metadata": {
    "id": "toy77tE5c_DW"
   },
   "source": [
    "#### 1.3.2. arange()를 사용해서 쉽게 생성하기"
   ]
  },
  {
   "cell_type": "markdown",
   "metadata": {
    "id": "E0cdCSnVdHlK"
   },
   "source": [
    "첫번째 인자에는 **start 이상**, 두번째 인자에는 **stop의 미만**"
   ]
  },
  {
   "cell_type": "code",
   "execution_count": 119,
   "metadata": {
    "id": "EoH_TE8edDDm"
   },
   "outputs": [
    {
     "data": {
      "text/plain": [
       "array([ 1,  2,  3,  4,  5,  6,  7,  8,  9, 10])"
      ]
     },
     "execution_count": 119,
     "metadata": {},
     "output_type": "execute_result"
    }
   ],
   "source": [
    "arr = np.arange(1,11)\n",
    "arr"
   ]
  },
  {
   "cell_type": "code",
   "execution_count": 123,
   "metadata": {},
   "outputs": [
    {
     "name": "stdout",
     "output_type": "stream",
     "text": [
      "[[0 1]\n",
      " [2 3]\n",
      " [4 5]\n",
      " [6 7]\n",
      " [8 9]]\n"
     ]
    }
   ],
   "source": [
    "a = np.arange(10)\n",
    "b = a.reshape(5,2)\n",
    "print(b)"
   ]
  },
  {
   "cell_type": "code",
   "execution_count": 25,
   "metadata": {
    "id": "PRRUA4vW8pha"
   },
   "outputs": [
    {
     "data": {
      "text/plain": [
       "array([10,  9,  8,  7,  6,  5,  4,  3,  2,  1])"
      ]
     },
     "execution_count": 25,
     "metadata": {},
     "output_type": "execute_result"
    }
   ],
   "source": [
    "arr = np.arange(10,0,-1)\n",
    "arr"
   ]
  },
  {
   "cell_type": "markdown",
   "metadata": {
    "id": "g6aoGZYH8pha"
   },
   "source": [
    "#### 1.3.3. keyword 인자를 사용해보기"
   ]
  },
  {
   "cell_type": "markdown",
   "metadata": {
    "id": "BSsXCqTUdpWf"
   },
   "source": [
    "keyword 인자는 파라미터(인자)의 keyword를 지정해줌으로썬 순서 없이 지정해 줄 수 있습니다."
   ]
  },
  {
   "cell_type": "code",
   "execution_count": 27,
   "metadata": {
    "id": "XquA7klSdwoP"
   },
   "outputs": [
    {
     "data": {
      "text/plain": [
       "array([ 1,  2,  3,  4,  5,  6,  7,  8,  9, 10])"
      ]
     },
     "execution_count": 27,
     "metadata": {},
     "output_type": "execute_result"
    }
   ],
   "source": [
    "\n",
    "arr = np.arange(start=1, stop=11,step=1)\n",
    "arr"
   ]
  },
  {
   "cell_type": "code",
   "execution_count": 29,
   "metadata": {
    "id": "KLxLL3H4d3VP"
   },
   "outputs": [
    {
     "data": {
      "text/plain": [
       "array([ 1,  2,  3,  4,  5,  6,  7,  8,  9, 10])"
      ]
     },
     "execution_count": 29,
     "metadata": {},
     "output_type": "execute_result"
    }
   ],
   "source": [
    "arr = np.arange(stop=11, start=1, step=1)\n",
    "arr"
   ]
  },
  {
   "cell_type": "markdown",
   "metadata": {
    "id": "AkRTHb1V8phb"
   },
   "source": [
    "**연습문제) 1~10 사이의 값 중 홀수만 생성하시오.**"
   ]
  },
  {
   "cell_type": "code",
   "execution_count": 30,
   "metadata": {
    "id": "cM79U_lhd8Ho"
   },
   "outputs": [
    {
     "data": {
      "text/plain": [
       "array([1, 3, 5, 7, 9])"
      ]
     },
     "execution_count": 30,
     "metadata": {},
     "output_type": "execute_result"
    }
   ],
   "source": [
    "arr = np.arange(start=1, stop=10,step=2)\n",
    "arr"
   ]
  },
  {
   "cell_type": "markdown",
   "metadata": {
    "id": "Q-bt0tCf8phb"
   },
   "source": [
    "### 1.4. array를 쉽게 만들어주는 기타 함수들"
   ]
  },
  {
   "cell_type": "markdown",
   "metadata": {
    "id": "ufl1r2YK8phb"
   },
   "source": [
    "#### 1.4.1. np.ones(), np.zeros()\n",
    "- shape을 tuple형식으로 넣어준다."
   ]
  },
  {
   "cell_type": "code",
   "execution_count": 32,
   "metadata": {
    "id": "T9CZQuyd8phb"
   },
   "outputs": [
    {
     "data": {
      "text/plain": [
       "array([[1, 1, 1, 1],\n",
       "       [1, 1, 1, 1],\n",
       "       [1, 1, 1, 1]])"
      ]
     },
     "execution_count": 32,
     "metadata": {},
     "output_type": "execute_result"
    }
   ],
   "source": [
    "np.ones((3,4),dtype=int)"
   ]
  },
  {
   "cell_type": "code",
   "execution_count": 33,
   "metadata": {
    "id": "bElgWX6N8phb"
   },
   "outputs": [
    {
     "data": {
      "text/plain": [
       "array([[[1., 1., 1., 1.],\n",
       "        [1., 1., 1., 1.],\n",
       "        [1., 1., 1., 1.]],\n",
       "\n",
       "       [[1., 1., 1., 1.],\n",
       "        [1., 1., 1., 1.],\n",
       "        [1., 1., 1., 1.]]])"
      ]
     },
     "execution_count": 33,
     "metadata": {},
     "output_type": "execute_result"
    }
   ],
   "source": [
    "np.ones((2,3,4))"
   ]
  },
  {
   "cell_type": "code",
   "execution_count": 36,
   "metadata": {
    "id": "OeU2phw48phc"
   },
   "outputs": [
    {
     "data": {
      "text/plain": [
       "array([[0, 0, 0],\n",
       "       [0, 0, 0]])"
      ]
     },
     "execution_count": 36,
     "metadata": {},
     "output_type": "execute_result"
    }
   ],
   "source": [
    "np.zeros((2,3),dtype=int)\n"
   ]
  },
  {
   "cell_type": "code",
   "execution_count": 37,
   "metadata": {},
   "outputs": [
    {
     "data": {
      "text/plain": [
       "array([[[0., 0., 0., 0.],\n",
       "        [0., 0., 0., 0.],\n",
       "        [0., 0., 0., 0.]],\n",
       "\n",
       "       [[0., 0., 0., 0.],\n",
       "        [0., 0., 0., 0.],\n",
       "        [0., 0., 0., 0.]]])"
      ]
     },
     "execution_count": 37,
     "metadata": {},
     "output_type": "execute_result"
    }
   ],
   "source": [
    "np.zeros((2,3,4))"
   ]
  },
  {
   "cell_type": "markdown",
   "metadata": {
    "id": "HiITPwm_8phc"
   },
   "source": [
    "#### 1.4.2. np.empty(), np.full()\n",
    "- np.empty : 초기화되지 않은 값으로 배열을 생성. 메모리도 초기화되지 않기 때문에 예상하지 못한 쓰레기 값이 들어감"
   ]
  },
  {
   "cell_type": "code",
   "execution_count": 101,
   "metadata": {
    "id": "oUoooa0S8phc"
   },
   "outputs": [
    {
     "data": {
      "text/plain": [
       "array([[1., 1., 1., 1.],\n",
       "       [1., 1., 1., 1.],\n",
       "       [1., 1., 1., 1.]])"
      ]
     },
     "execution_count": 101,
     "metadata": {},
     "output_type": "execute_result"
    }
   ],
   "source": [
    "np.empty((3,4))"
   ]
  },
  {
   "cell_type": "code",
   "execution_count": 83,
   "metadata": {
    "id": "TCtgkVlE8phc"
   },
   "outputs": [
    {
     "data": {
      "text/plain": [
       "array([[10, 10, 10],\n",
       "       [10, 10, 10]])"
      ]
     },
     "execution_count": 83,
     "metadata": {},
     "output_type": "execute_result"
    }
   ],
   "source": [
    "np.full((2,3),10)"
   ]
  },
  {
   "cell_type": "markdown",
   "metadata": {
    "id": "6KOGeHSY8phc"
   },
   "source": [
    "#### 1.4.3. np.eye()"
   ]
  },
  {
   "cell_type": "markdown",
   "metadata": {
    "id": "LQWPq4kX8phc"
   },
   "source": [
    "- 단위행렬 생성"
   ]
  },
  {
   "cell_type": "code",
   "execution_count": 102,
   "metadata": {
    "id": "VE_C_zW78phc"
   },
   "outputs": [
    {
     "data": {
      "text/plain": [
       "array([[1., 0., 0., 0., 0.],\n",
       "       [0., 1., 0., 0., 0.],\n",
       "       [0., 0., 1., 0., 0.],\n",
       "       [0., 0., 0., 1., 0.],\n",
       "       [0., 0., 0., 0., 1.]])"
      ]
     },
     "execution_count": 102,
     "metadata": {},
     "output_type": "execute_result"
    }
   ],
   "source": [
    "np.eye(5)"
   ]
  },
  {
   "cell_type": "markdown",
   "metadata": {
    "id": "9n-TZ3Uu8phd"
   },
   "source": [
    "#### 1.4.4. np.linspace()\n",
    "- np.linspace(start,stop,num)\n",
    "- start ~ stop 사이에 숫자를 num개 만들기"
   ]
  },
  {
   "cell_type": "code",
   "execution_count": 111,
   "metadata": {
    "id": "gOmsiC7M8phd"
   },
   "outputs": [
    {
     "name": "stdout",
     "output_type": "stream",
     "text": [
      "[ 1.   5.5 10. ]\n",
      "[ 1.  4.  7. 10.]\n"
     ]
    }
   ],
   "source": [
    "print(np.linspace(1,10,3))\n",
    "print(np.linspace(1,10,4))"
   ]
  },
  {
   "cell_type": "code",
   "execution_count": null,
   "metadata": {
    "id": "cNVkoExY8phd"
   },
   "outputs": [],
   "source": []
  },
  {
   "cell_type": "markdown",
   "metadata": {
    "id": "4ZKm8VBk8phd"
   },
   "source": [
    "#### 1.4.5. reshape()"
   ]
  },
  {
   "cell_type": "code",
   "execution_count": 118,
   "metadata": {
    "id": "0KlhV0Pp8phd"
   },
   "outputs": [
    {
     "name": "stdout",
     "output_type": "stream",
     "text": [
      "[ 1  2  3  4  5  6  7  8  9 10 11 12 13 14 15 16 17 18 19 20]\n",
      "(20,)\n",
      "[[[ 1  2]\n",
      "  [ 3  4]\n",
      "  [ 5  6]\n",
      "  [ 7  8]\n",
      "  [ 9 10]]\n",
      "\n",
      " [[11 12]\n",
      "  [13 14]\n",
      "  [15 16]\n",
      "  [17 18]\n",
      "  [19 20]]]\n"
     ]
    }
   ],
   "source": [
    "x = np.arange(1,21)\n",
    "print(x)\n",
    "print(x.shape)\n",
    "\n",
    "x.reshape(4,5)\n",
    "#x.reshape(3,6)              # 바꾸고 싶은 shape으로 변경하려면 갯수가 맞아야한다.\n",
    "\n",
    "y = x.reshape(2,5,2)\n",
    "print(y)\n",
    "                            "
   ]
  },
  {
   "cell_type": "markdown",
   "metadata": {
    "id": "CZNcE09l8phd"
   },
   "source": [
    "### 1.5. random 서브모듈"
   ]
  },
  {
   "cell_type": "markdown",
   "metadata": {
    "id": "8aSOuBwR8phe"
   },
   "source": [
    "#### 1.5.1. rand()\n",
    "- 0~1사이의 분포로 랜덤한 ndarray 생성"
   ]
  },
  {
   "cell_type": "code",
   "execution_count": 124,
   "metadata": {
    "id": "RPLqu8OS8phe"
   },
   "outputs": [
    {
     "data": {
      "text/plain": [
       "array([[0.79254828, 0.88307086, 0.36995334],\n",
       "       [0.51591111, 0.73155263, 0.99554495]])"
      ]
     },
     "execution_count": 124,
     "metadata": {},
     "output_type": "execute_result"
    }
   ],
   "source": [
    "np.random.rand(2,3)"
   ]
  },
  {
   "cell_type": "code",
   "execution_count": 125,
   "metadata": {
    "id": "rL6drNm_8phe"
   },
   "outputs": [
    {
     "data": {
      "text/plain": [
       "array([0.47354387, 0.41052525, 0.31884427, 0.9145671 , 0.90802198,\n",
       "       0.70479656, 0.97192145, 0.6326287 , 0.85923888, 0.42211165])"
      ]
     },
     "execution_count": 125,
     "metadata": {},
     "output_type": "execute_result"
    }
   ],
   "source": [
    "np.random.rand(10)"
   ]
  },
  {
   "cell_type": "markdown",
   "metadata": {
    "id": "VKtHiamE8phe"
   },
   "source": [
    "#### 1.5.2. randn()\n",
    "- n : normal distrbution(정규분포)\n",
    "- 정규분포로 샘플링된 램덤 ndarray 생성"
   ]
  },
  {
   "cell_type": "code",
   "execution_count": 126,
   "metadata": {
    "id": "O10yqGwE8phe",
    "outputId": "f81293da-ec17-48f3-db79-980ac00e3806"
   },
   "outputs": [
    {
     "data": {
      "text/plain": [
       "array([[-0.01092018, -0.14034698,  0.76348325,  0.11237643],\n",
       "       [ 0.71789345, -0.86453353,  0.42582079,  0.06454079],\n",
       "       [ 0.28789497, -0.86884738, -0.85112032,  0.5496387 ]])"
      ]
     },
     "execution_count": 126,
     "metadata": {},
     "output_type": "execute_result"
    }
   ],
   "source": [
    "np.random.randn(3,4)\n",
    "#np.random.randn(5)"
   ]
  },
  {
   "cell_type": "code",
   "execution_count": null,
   "metadata": {
    "id": "Jt5AtqXZ8phf"
   },
   "outputs": [],
   "source": []
  },
  {
   "cell_type": "markdown",
   "metadata": {
    "id": "2QRN73QP8phf"
   },
   "source": [
    "#### 1.5.3. randint()\n",
    "- 특정정수 사이에서 랜덤하게 샘플링"
   ]
  },
  {
   "cell_type": "code",
   "execution_count": 127,
   "metadata": {
    "id": "jEESgNaI8phf"
   },
   "outputs": [
    {
     "data": {
      "text/plain": [
       "array([[83,  6, 78, 77],\n",
       "       [85, 37, 40, 58],\n",
       "       [80, 96, 56, 60]])"
      ]
     },
     "execution_count": 127,
     "metadata": {},
     "output_type": "execute_result"
    }
   ],
   "source": [
    "np.random.randint(1,100, size=(3,4))\n"
   ]
  },
  {
   "cell_type": "markdown",
   "metadata": {
    "id": "ESlV1Oj88phg"
   },
   "source": [
    "#### 1.5.4. seed()\n",
    "- 랜덤한 값을 동일하게 다시 생성하고자 할때"
   ]
  },
  {
   "cell_type": "code",
   "execution_count": 140,
   "metadata": {
    "id": "-7eC2_Vm8phg",
    "outputId": "f5b73a82-c359-4a7e-9ab7-cc253ea80142"
   },
   "outputs": [
    {
     "data": {
      "text/plain": [
       "array([[0.56600806, 0.83826611, 0.05684514, 0.93004921],\n",
       "       [0.11885579, 0.77170191, 0.40003971, 0.30200802],\n",
       "       [0.13021879, 0.10942215, 0.62550924, 0.11123393]])"
      ]
     },
     "execution_count": 140,
     "metadata": {},
     "output_type": "execute_result"
    }
   ],
   "source": [
    "np.random.rand(3,4)"
   ]
  },
  {
   "cell_type": "code",
   "execution_count": 161,
   "metadata": {
    "id": "sw2y96CK8phg"
   },
   "outputs": [
    {
     "name": "stdout",
     "output_type": "stream",
     "text": [
      "[[0.54340494 0.27836939 0.42451759 0.84477613]\n",
      " [0.00471886 0.12156912 0.67074908 0.82585276]\n",
      " [0.13670659 0.57509333 0.89132195 0.20920212]]\n",
      "[[0.94763226 0.22654742 0.59442014 0.42830868]\n",
      " [0.76414069 0.00286059 0.35742368 0.90969489]\n",
      " [0.45608099 0.98180271 0.86735699 0.98602751]]\n",
      "[[0.54340494 0.27836939 0.42451759 0.84477613]\n",
      " [0.00471886 0.12156912 0.67074908 0.82585276]\n",
      " [0.13670659 0.57509333 0.89132195 0.20920212]]\n"
     ]
    }
   ],
   "source": [
    "np.random.seed(100)\n",
    "print(np.random.rand(3,4))\n",
    "\n",
    "np.random.seed(200)\n",
    "print(np.random.rand(3,4))\n",
    "\n",
    "np.random.seed(100)\n",
    "print(np.random.rand(3,4))"
   ]
  },
  {
   "cell_type": "markdown",
   "metadata": {
    "id": "Q98Z5D6x8phg"
   },
   "source": [
    "#### 1.5.5. choice()\n",
    "- 주어진 1차원 ndarray()로 부터 랜덤으로 샘플링\n",
    "- 정수가 주어진 경우 np.arrange(숫자)로 간주\n",
    "- "
   ]
  },
  {
   "cell_type": "code",
   "execution_count": 166,
   "metadata": {
    "id": "3a5-EzjX8phg"
   },
   "outputs": [
    {
     "data": {
      "text/plain": [
       "array([[56, 34, 53, 74],\n",
       "       [17, 72, 13, 30],\n",
       "       [17, 53, 68, 50]])"
      ]
     },
     "execution_count": 166,
     "metadata": {},
     "output_type": "execute_result"
    }
   ],
   "source": [
    "#0~99사이의 ndarray 생성\n",
    "np.random.choice(100,size=(3,4))       # 중복생성이 가능하다"
   ]
  },
  {
   "cell_type": "code",
   "execution_count": 165,
   "metadata": {
    "id": "PHDzHutc8phg"
   },
   "outputs": [
    {
     "data": {
      "text/plain": [
       "array([[4.9, 2.5],\n",
       "       [3. , 1. ]])"
      ]
     },
     "execution_count": 165,
     "metadata": {},
     "output_type": "execute_result"
    }
   ],
   "source": [
    "x = np.array([1,2,3,1.5, 2.5, 4.9])\n",
    "np.random.choice(x,size=(2,2))"
   ]
  },
  {
   "cell_type": "code",
   "execution_count": 176,
   "metadata": {
    "id": "s-zpONAl8phh"
   },
   "outputs": [
    {
     "data": {
      "text/plain": [
       "array([[ 2, 42, 29, 39],\n",
       "       [ 7, 63, 26, 84],\n",
       "       [82, 55, 24, 13]])"
      ]
     },
     "execution_count": 176,
     "metadata": {},
     "output_type": "execute_result"
    }
   ],
   "source": [
    "# 0~100,사이의 중복되지 않은 랜덤한 숫자로 3X4 array를 만든다면?\n",
    "\n",
    "np.random.choice(100,size=(3,4),replace=False)    # 디폴트값으로 replace=True로 되어있다. 이 값을 False로 바꿔주면 된다."
   ]
  },
  {
   "cell_type": "markdown",
   "metadata": {
    "id": "i8nYISSH8phh"
   },
   "source": [
    "## 2. array에서의 data 타입\n",
    "- array에서는 list와는 다르게 1개의 **단일 데이터 타입**만 허용 됩니다."
   ]
  },
  {
   "cell_type": "markdown",
   "metadata": {
    "id": "XTLMkufHNT_M"
   },
   "source": [
    "### 2-1. list에서의 data 타입"
   ]
  },
  {
   "cell_type": "code",
   "execution_count": null,
   "metadata": {
    "id": "C0B5BIjtNIhI"
   },
   "outputs": [],
   "source": [
    "# list에서는 자료형이 섞여 있어도 상관없다.\n",
    "mylist = [1, 3.14, '테디', '1234']\n",
    "mylist"
   ]
  },
  {
   "cell_type": "markdown",
   "metadata": {
    "id": "GX81OuGvNSWJ"
   },
   "source": [
    "### 2-2. array에서의 data 타입"
   ]
  },
  {
   "cell_type": "markdown",
   "metadata": {
    "id": "szwCkfiKOscZ"
   },
   "source": [
    "### case 1. int와 float 타입이 혼재된 경우\n",
    "- float형으로 바뀐다"
   ]
  },
  {
   "cell_type": "code",
   "execution_count": 178,
   "metadata": {
    "id": "cbixPa34Opbw"
   },
   "outputs": [
    {
     "data": {
      "text/plain": [
       "array([1.  , 3.14, 5.  , 6.78])"
      ]
     },
     "execution_count": 178,
     "metadata": {},
     "output_type": "execute_result"
    }
   ],
   "source": [
    "arr = np.array([1,3.14,5,6.78])        # 정수형태(int)도 f실수형태(loat)로 바뀐다.\n",
    "arr"
   ]
  },
  {
   "cell_type": "code",
   "execution_count": 181,
   "metadata": {},
   "outputs": [
    {
     "data": {
      "text/plain": [
       "array([1, 3, 5, 6])"
      ]
     },
     "execution_count": 181,
     "metadata": {},
     "output_type": "execute_result"
    }
   ],
   "source": [
    "arr = np.array([1,3.14,5,6.78],dtype = int)  \n",
    "arr"
   ]
  },
  {
   "cell_type": "markdown",
   "metadata": {
    "id": "NK9OEY8cO1h1"
   },
   "source": [
    "### case 2. int와 float 타입이 혼재되었으나, dtype을 지정한 경우\n",
    "- 지정한 타입으로 바뀐다."
   ]
  },
  {
   "cell_type": "code",
   "execution_count": null,
   "metadata": {
    "id": "J-CMx0MkOiVB"
   },
   "outputs": [],
   "source": []
  },
  {
   "cell_type": "markdown",
   "metadata": {
    "id": "RDfxDsUWOoT1"
   },
   "source": [
    "### case 3. int와 str 타입이 혼재된 경우\n",
    "- 문자형으로 바뀐다.\n",
    "- <U32 : 유니코드"
   ]
  },
  {
   "cell_type": "code",
   "execution_count": 183,
   "metadata": {
    "id": "EFxhPu_oNZ9V",
    "outputId": "70960a46-bbd5-497e-cded-bc59614a58e0"
   },
   "outputs": [
    {
     "data": {
      "text/plain": [
       "array(['1', '3.14', '5', '6.78', 'Hello'], dtype='<U32')"
      ]
     },
     "execution_count": 183,
     "metadata": {},
     "output_type": "execute_result"
    }
   ],
   "source": [
    "arr = np.array([1,3.14,5,6.78,\"Hello\"])  \n",
    "arr"
   ]
  },
  {
   "cell_type": "code",
   "execution_count": 184,
   "metadata": {
    "id": "VcFfCH16Ni4-"
   },
   "outputs": [
    {
     "data": {
      "text/plain": [
       "'3.145'"
      ]
     },
     "execution_count": 184,
     "metadata": {},
     "output_type": "execute_result"
    }
   ],
   "source": [
    "arr[1]+arr[2]"
   ]
  },
  {
   "cell_type": "markdown",
   "metadata": {
    "id": "ihIB8zQfPCLP"
   },
   "source": [
    "### case 4. int와 str 타입이 혼재되어 있고 int로 dtype을 지정한 경우"
   ]
  },
  {
   "cell_type": "code",
   "execution_count": 185,
   "metadata": {
    "id": "L2cVoxoEPH7X"
   },
   "outputs": [
    {
     "ename": "ValueError",
     "evalue": "invalid literal for int() with base 10: 'Hello'",
     "output_type": "error",
     "traceback": [
      "\u001b[1;31m---------------------------------------------------------------------------\u001b[0m",
      "\u001b[1;31mValueError\u001b[0m                                Traceback (most recent call last)",
      "\u001b[1;32m<ipython-input-185-a6cdbf2144a8>\u001b[0m in \u001b[0;36m<module>\u001b[1;34m\u001b[0m\n\u001b[1;32m----> 1\u001b[1;33m \u001b[0marr\u001b[0m \u001b[1;33m=\u001b[0m \u001b[0mnp\u001b[0m\u001b[1;33m.\u001b[0m\u001b[0marray\u001b[0m\u001b[1;33m(\u001b[0m\u001b[1;33m[\u001b[0m\u001b[1;36m1\u001b[0m\u001b[1;33m,\u001b[0m\u001b[1;36m3.14\u001b[0m\u001b[1;33m,\u001b[0m\u001b[1;36m5\u001b[0m\u001b[1;33m,\u001b[0m\u001b[1;36m6.78\u001b[0m\u001b[1;33m,\u001b[0m\u001b[1;34m\"Hello\"\u001b[0m\u001b[1;33m]\u001b[0m\u001b[1;33m,\u001b[0m\u001b[0mdtype\u001b[0m \u001b[1;33m=\u001b[0m \u001b[0mint\u001b[0m\u001b[1;33m)\u001b[0m\u001b[1;33m\u001b[0m\u001b[1;33m\u001b[0m\u001b[0m\n\u001b[0m\u001b[0;32m      2\u001b[0m \u001b[0marr\u001b[0m\u001b[1;33m\u001b[0m\u001b[1;33m\u001b[0m\u001b[0m\n",
      "\u001b[1;31mValueError\u001b[0m: invalid literal for int() with base 10: 'Hello'"
     ]
    }
   ],
   "source": [
    "arr = np.array([1,3.14,5,6.78,\"Hello\"],dtype = int)\n",
    "arr"
   ]
  },
  {
   "cell_type": "code",
   "execution_count": 186,
   "metadata": {
    "id": "f7EtNlGuPLTM"
   },
   "outputs": [
    {
     "data": {
      "text/plain": [
       "array([    1,     3,     5,     6, 12344])"
      ]
     },
     "execution_count": 186,
     "metadata": {},
     "output_type": "execute_result"
    }
   ],
   "source": [
    "arr = np.array([1,3.14,5,6.78,\"12344\"],dtype = int)\n",
    "arr"
   ]
  },
  {
   "cell_type": "markdown",
   "metadata": {
    "id": "5udnDdRaPwEO"
   },
   "source": [
    "## 3. ndarry 인덱싱 & 슬라이싱 \n",
    "- 개념적으로는 list의 인덱싱과 슬라이싱과 동일\n",
    "- **,** 를 사용하여 각 차원의 인덱스에 접근 가능"
   ]
  },
  {
   "cell_type": "code",
   "execution_count": null,
   "metadata": {
    "id": "6keEerG8P_S5"
   },
   "outputs": [],
   "source": [
    "arr = np.array([0, 1, 2, 3, 4, 5, 6, 7, 8, 9])\n",
    "arr.shape"
   ]
  },
  {
   "cell_type": "markdown",
   "metadata": {
    "id": "Srgo4QWxQXZN"
   },
   "source": [
    "### 3.1. 인덱싱(Indexing)"
   ]
  },
  {
   "cell_type": "markdown",
   "metadata": {
    "id": "G9hLG9ZZRn3P"
   },
   "source": [
    "#### 3.1.1. 1차원 array"
   ]
  },
  {
   "cell_type": "code",
   "execution_count": null,
   "metadata": {
    "id": "9vqX0uhOSKSp",
    "outputId": "2d359fba-35d3-43cc-9bbf-b35a0d69b4e9"
   },
   "outputs": [
    {
     "name": "stdout",
     "output_type": "stream",
     "text": [
      "[0 1 2 3 4 5 6 7 8 9]\n",
      "0\n",
      "5\n",
      "9\n",
      "0\n"
     ]
    }
   ],
   "source": [
    "arr = np.arange(10)\n",
    "\n",
    "print(arr)\n",
    "print(arr[0])\n",
    "print(arr[5])\n",
    "#print(arr[10])         # 인덱스 10번이 없기 때문에 에러가 난다.\n",
    "print(arr[-1])\n",
    "print(arr[-10])"
   ]
  },
  {
   "cell_type": "markdown",
   "metadata": {
    "id": "wl0C7KPNRrAI"
   },
   "source": [
    "#### 3.1.2. 2차원 array\n"
   ]
  },
  {
   "cell_type": "code",
   "execution_count": 187,
   "metadata": {
    "id": "HsiBC5kxRs6y"
   },
   "outputs": [
    {
     "data": {
      "text/plain": [
       "(3, 4)"
      ]
     },
     "execution_count": 187,
     "metadata": {},
     "output_type": "execute_result"
    }
   ],
   "source": [
    "arr2d = np.array([[1, 2, 3, 4], \n",
    "                  [5, 6, 7, 8], \n",
    "                  [9, 10, 11, 12]])\n",
    "arr2d.shape"
   ]
  },
  {
   "cell_type": "markdown",
   "metadata": {
    "id": "YfTsIia7RzrQ"
   },
   "source": [
    "**arr2d[행, 열]**\n",
    "- 하나의 원소를 뽑고 싶으면 인덱스가 **[행, 열]** 의 형태이어야 한다"
   ]
  },
  {
   "cell_type": "code",
   "execution_count": 188,
   "metadata": {
    "id": "zO9fguiHRyCR"
   },
   "outputs": [
    {
     "data": {
      "text/plain": [
       "array([1, 2, 3, 4])"
      ]
     },
     "execution_count": 188,
     "metadata": {},
     "output_type": "execute_result"
    }
   ],
   "source": [
    "arr2d[0]"
   ]
  },
  {
   "cell_type": "code",
   "execution_count": 190,
   "metadata": {
    "id": "EjCBNfCw8phl"
   },
   "outputs": [
    {
     "data": {
      "text/plain": [
       "3"
      ]
     },
     "execution_count": 190,
     "metadata": {},
     "output_type": "execute_result"
    }
   ],
   "source": [
    "arr2d[0,2]\n"
   ]
  },
  {
   "cell_type": "code",
   "execution_count": 191,
   "metadata": {
    "id": "tzOGkEkg8phl"
   },
   "outputs": [
    {
     "data": {
      "text/plain": [
       "10"
      ]
     },
     "execution_count": 191,
     "metadata": {},
     "output_type": "execute_result"
    }
   ],
   "source": [
    "arr2d[2,1]\n"
   ]
  },
  {
   "cell_type": "code",
   "execution_count": 192,
   "metadata": {
    "id": "XLMv09318phl"
   },
   "outputs": [
    {
     "data": {
      "text/plain": [
       "11"
      ]
     },
     "execution_count": 192,
     "metadata": {},
     "output_type": "execute_result"
    }
   ],
   "source": [
    "arr2d[-1,-2]"
   ]
  },
  {
   "cell_type": "markdown",
   "metadata": {
    "id": "aGH4CI0m8phl"
   },
   "source": [
    "#### 3.1.3. 3차원 array"
   ]
  },
  {
   "cell_type": "code",
   "execution_count": 194,
   "metadata": {
    "id": "J5_y6TCF8phl"
   },
   "outputs": [
    {
     "data": {
      "text/plain": [
       "array([[[ 0,  1,  2],\n",
       "        [ 3,  4,  5],\n",
       "        [ 6,  7,  8],\n",
       "        [ 9, 10, 11]],\n",
       "\n",
       "       [[12, 13, 14],\n",
       "        [15, 16, 17],\n",
       "        [18, 19, 20],\n",
       "        [21, 22, 23]],\n",
       "\n",
       "       [[24, 25, 26],\n",
       "        [27, 28, 29],\n",
       "        [30, 31, 32],\n",
       "        [33, 34, 35]]])"
      ]
     },
     "execution_count": 194,
     "metadata": {},
     "output_type": "execute_result"
    }
   ],
   "source": [
    "arr3d = np.arange(36).reshape(3,4,3)\n",
    "arr3d"
   ]
  },
  {
   "cell_type": "code",
   "execution_count": 195,
   "metadata": {
    "id": "Q_wDZ2Pk8phl"
   },
   "outputs": [
    {
     "data": {
      "text/plain": [
       "array([[ 0,  1,  2],\n",
       "       [ 3,  4,  5],\n",
       "       [ 6,  7,  8],\n",
       "       [ 9, 10, 11]])"
      ]
     },
     "execution_count": 195,
     "metadata": {},
     "output_type": "execute_result"
    }
   ],
   "source": [
    "arr3d[0]"
   ]
  },
  {
   "cell_type": "code",
   "execution_count": 196,
   "metadata": {
    "id": "6YCE1cPU8phm"
   },
   "outputs": [
    {
     "data": {
      "text/plain": [
       "array([12, 13, 14])"
      ]
     },
     "execution_count": 196,
     "metadata": {},
     "output_type": "execute_result"
    }
   ],
   "source": [
    "arr3d[1,0]"
   ]
  },
  {
   "cell_type": "code",
   "execution_count": 197,
   "metadata": {
    "id": "urVgcSHY8phm"
   },
   "outputs": [
    {
     "data": {
      "text/plain": [
       "23"
      ]
     },
     "execution_count": 197,
     "metadata": {},
     "output_type": "execute_result"
    }
   ],
   "source": [
    "arr3d[1,-1,-1]"
   ]
  },
  {
   "cell_type": "code",
   "execution_count": null,
   "metadata": {
    "id": "eFlESn2L8phm"
   },
   "outputs": [],
   "source": []
  },
  {
   "cell_type": "markdown",
   "metadata": {
    "id": "A9JfdvmOQshs"
   },
   "source": [
    "### 3.2. 슬라이싱(Slicing)\n",
    "- 리스트, 문자열 slicing과 동일한 개념으로 사용\n",
    "- **,** 를 사용하여 각 차원 별로 슬라이싱 가능\n",
    "- 인덱싱은 차원의 변화가 있지만 슬라이싱은 차원의 변화는 없다"
   ]
  },
  {
   "cell_type": "markdown",
   "metadata": {
    "id": "HofWSyh-SCgA"
   },
   "source": [
    "#### 3.2.1. 1차원 array"
   ]
  },
  {
   "cell_type": "code",
   "execution_count": 217,
   "metadata": {
    "id": "Yp9guIXUk45v"
   },
   "outputs": [
    {
     "name": "stdout",
     "output_type": "stream",
     "text": [
      "[0 1 2 3 4 5 6 7 8 9]\n",
      "[0 1 2 3 4 5 6 7 8 9]\n",
      "[0 1 2 3 4 5 6 7 8 9]\n",
      "[0 1 2 3 4 5 6 7 8 9]\n",
      "[1 2 3 4 5 6 7 8 9]\n",
      "[0 1 2 3 4]\n",
      "[1 2 3 4]\n",
      "[0 1 2 3 4 5 6 7 8]\n",
      "[0 1 2 3 4 5 6 7 8]\n",
      "[0 1 2 3 4 5 6 7 8]\n",
      "[9 8 7 6 5 4 3 2 1 0]\n",
      "[2 4 6 8]\n"
     ]
    }
   ],
   "source": [
    "arr = np.arange(10)\n",
    "\n",
    "# 전부다\n",
    "print(arr)\n",
    "print(arr[:])\n",
    "print(arr[0:10])\n",
    "print(arr[-10::])\n",
    "\n",
    "# 1부터 끝까지\n",
    "print(arr[1:])\n",
    "\n",
    "\n",
    "# 0부터 4까지\n",
    "print(arr[0:5])\n",
    "\n",
    "# 1부터 4까지\n",
    "print(arr[1:5])\n",
    "\n",
    "# 0부터 8까지\n",
    "print(arr[:9])\n",
    "print(arr[0:9])\n",
    "print(arr[:-1])\n",
    "\n",
    "# 거꾸로\n",
    "print(arr[::-1])\n",
    "\n",
    "# 짝수만\n",
    "print(arr[2::2])\n"
   ]
  },
  {
   "cell_type": "markdown",
   "metadata": {
    "id": "I6JtSZjoSEn4"
   },
   "source": [
    "#### 3.2.2. 2차원 array\n",
    "- **np.array[행,렬]** "
   ]
  },
  {
   "cell_type": "code",
   "execution_count": 218,
   "metadata": {
    "id": "9lf5XlZSSGOO"
   },
   "outputs": [
    {
     "data": {
      "text/plain": [
       "array([[ 1,  2,  3,  4],\n",
       "       [ 5,  6,  7,  8],\n",
       "       [ 9, 10, 11, 12]])"
      ]
     },
     "execution_count": 218,
     "metadata": {},
     "output_type": "execute_result"
    }
   ],
   "source": [
    "arr2d = np.arange(1,13).reshape(3,4)\n",
    "arr2d"
   ]
  },
  {
   "cell_type": "code",
   "execution_count": 219,
   "metadata": {
    "id": "-igIgo8d8phn"
   },
   "outputs": [
    {
     "name": "stdout",
     "output_type": "stream",
     "text": [
      "12\n"
     ]
    }
   ],
   "source": [
    "# (2, 3) 값을 가져오기 -> 인덱싱\n",
    "print(arr2d[2,3])"
   ]
  },
  {
   "cell_type": "code",
   "execution_count": 220,
   "metadata": {
    "id": "SEE-HpBTSfv5"
   },
   "outputs": [
    {
     "data": {
      "text/plain": [
       "array([[1, 2, 3, 4],\n",
       "       [5, 6, 7, 8]])"
      ]
     },
     "execution_count": 220,
     "metadata": {},
     "output_type": "execute_result"
    }
   ],
   "source": [
    "#0행~1행, 모든 열 슬라이싱\n",
    "arr2d[:2,]\n"
   ]
  },
  {
   "cell_type": "code",
   "execution_count": 225,
   "metadata": {
    "id": "TNWsf5U08phn"
   },
   "outputs": [
    {
     "data": {
      "text/plain": [
       "array([[ 2,  3,  4],\n",
       "       [ 6,  7,  8],\n",
       "       [10, 11, 12]])"
      ]
     },
     "execution_count": 225,
     "metadata": {},
     "output_type": "execute_result"
    }
   ],
   "source": [
    "# 모든행, 1열~3열 슬라이싱\n",
    "arr2d[:,1:4]\n"
   ]
  },
  {
   "cell_type": "code",
   "execution_count": 226,
   "metadata": {
    "id": "5D7d5ozKSiXv",
    "scrolled": false
   },
   "outputs": [
    {
     "data": {
      "text/plain": [
       "array([[3, 4],\n",
       "       [7, 8]])"
      ]
     },
     "execution_count": 226,
     "metadata": {},
     "output_type": "execute_result"
    }
   ],
   "source": [
    "#0행~1행, 2열~끝까지 슬라이싱\n",
    "arr2d[:2,2:]"
   ]
  },
  {
   "cell_type": "markdown",
   "metadata": {
    "id": "HR_JODwpSWKq"
   },
   "source": [
    "**인덱싱, 슬라싱 혼합**"
   ]
  },
  {
   "cell_type": "code",
   "execution_count": 230,
   "metadata": {
    "id": "iXoayqA8SMFc"
   },
   "outputs": [
    {
     "name": "stdout",
     "output_type": "stream",
     "text": [
      "[1 2 3 4]\n",
      "[1 2 3 4]\n",
      "[[1 2 3 4]]\n"
     ]
    }
   ],
   "source": [
    "# 인덱싱, 슬라이싱 혼합\n",
    "print(arr2d[0,:])\n",
    "print(arr2d[0])\n",
    "# 슬라이싱\n",
    "print(arr2d[:1,:])\n"
   ]
  },
  {
   "cell_type": "code",
   "execution_count": 231,
   "metadata": {
    "id": "2I_If7CjSS7O"
   },
   "outputs": [
    {
     "name": "stdout",
     "output_type": "stream",
     "text": [
      "[ 3  7 11]\n",
      "[[ 3]\n",
      " [ 7]\n",
      " [11]]\n"
     ]
    }
   ],
   "source": [
    "# 인덱싱, 슬라이싱 혼합\n",
    "print(arr2d[:,2])\n",
    "# 슬라이싱\n",
    "print(arr2d[:,2:3])\n"
   ]
  },
  {
   "cell_type": "markdown",
   "metadata": {
    "id": "7uBThDwR8pho"
   },
   "source": [
    "#### 3.2.3. 3차원 array"
   ]
  },
  {
   "cell_type": "code",
   "execution_count": 232,
   "metadata": {
    "id": "nW3A_vf78pho",
    "outputId": "c63d8d33-0ec7-4990-b089-20b5f6949ecb"
   },
   "outputs": [
    {
     "data": {
      "text/plain": [
       "array([[[ 0,  1,  2],\n",
       "        [ 3,  4,  5],\n",
       "        [ 6,  7,  8],\n",
       "        [ 9, 10, 11],\n",
       "        [12, 13, 14],\n",
       "        [15, 16, 17],\n",
       "        [18, 19, 20],\n",
       "        [21, 22, 23],\n",
       "        [24, 25, 26]],\n",
       "\n",
       "       [[27, 28, 29],\n",
       "        [30, 31, 32],\n",
       "        [33, 34, 35],\n",
       "        [36, 37, 38],\n",
       "        [39, 40, 41],\n",
       "        [42, 43, 44],\n",
       "        [45, 46, 47],\n",
       "        [48, 49, 50],\n",
       "        [51, 52, 53]]])"
      ]
     },
     "execution_count": 232,
     "metadata": {},
     "output_type": "execute_result"
    }
   ],
   "source": [
    "arr3d = np.arange(54).reshape(2, 9, 3)\n",
    "arr3d"
   ]
  },
  {
   "cell_type": "code",
   "execution_count": 234,
   "metadata": {
    "id": "jVhaZNwj8php",
    "outputId": "d31278b2-ce97-4c16-fb24-61b461cd6be8"
   },
   "outputs": [
    {
     "name": "stdout",
     "output_type": "stream",
     "text": [
      "[[[0 1 2]\n",
      "  [3 4 5]]]\n",
      "[[0 1 2]\n",
      " [3 4 5]]\n"
     ]
    }
   ],
   "source": [
    "#0~5까지 가져오고 싶다면? 슬라이싱 ->차원 유지\n",
    "print(arr3d[:1,:2,:])\n",
    "\n",
    "#인뎅싱 혼합 -> 차원 변화\n",
    "print(arr3d[0, :2, :]) \n"
   ]
  },
  {
   "cell_type": "code",
   "execution_count": 239,
   "metadata": {
    "id": "BLy54rJz8php"
   },
   "outputs": [
    {
     "name": "stdout",
     "output_type": "stream",
     "text": [
      "[[[43 44]]]\n",
      "[[43 44]]\n",
      "[43 44]\n"
     ]
    }
   ],
   "source": [
    "# 43,44 가져오고 싶다면?\n",
    "# 슬라이싱 -> 3차원\n",
    "print(arr3d[1:2,5:6,1:])\n",
    "\n",
    "\n",
    "# 인덱싱, 슬라이싱, 슬라이싱 -> 2차원\n",
    "print(arr3d[1,5:6,1:])\n",
    "\n",
    "# 인덱싱, 인덱싱, 슬라이싱 -> 1차원\n",
    "print(arr3d[1,5,1:])"
   ]
  },
  {
   "cell_type": "markdown",
   "metadata": {
    "id": "6wEBe7tbULky"
   },
   "source": [
    "## 4. Fancy 인덱싱"
   ]
  },
  {
   "cell_type": "markdown",
   "metadata": {
    "id": "ryx7onUgU7VT"
   },
   "source": [
    "- fancy 인덱싱은 범위가 아닌 **특정 index의 집합의 값을 선택하여 추출**하고 싶을 때 활용\n",
    "- **[추출하고 싶은 인덱스]** \n",
    "\n",
    "### 4.1.  1차원 array"
   ]
  },
  {
   "cell_type": "code",
   "execution_count": 245,
   "metadata": {
    "id": "H-eFtxCRULUn"
   },
   "outputs": [
    {
     "name": "stdout",
     "output_type": "stream",
     "text": [
      "[10 23  2  7 90 65 32 66 70]\n",
      "[23  7 65]\n",
      "[23  7 65]\n"
     ]
    }
   ],
   "source": [
    "arr = np.array([10, 23, 2, 7, 90, 65, 32, 66, 70])\n",
    "idx = [1,3,5]\n",
    "\n",
    "print(arr)\n",
    "print(arr[idx])\n",
    "print(arr[[1,3,5]])"
   ]
  },
  {
   "cell_type": "markdown",
   "metadata": {
    "id": "hx83f87VVX3r"
   },
   "source": [
    "### 4.2.  2차원 array"
   ]
  },
  {
   "cell_type": "code",
   "execution_count": 256,
   "metadata": {
    "id": "fxCICJpcVYC_"
   },
   "outputs": [
    {
     "name": "stdout",
     "output_type": "stream",
     "text": [
      "[[ 1  2  3  4]\n",
      " [ 5  6  7  8]\n",
      " [ 9 10 11 12]]\n",
      "--------------------\n",
      "[[1 2 3 4]\n",
      " [5 6 7 8]]\n",
      "[[1 2 3 4]\n",
      " [5 6 7 8]]\n",
      "[[ 2  3  4]\n",
      " [ 6  7  8]\n",
      " [10 11 12]]\n",
      "[ 2  7 12]\n"
     ]
    }
   ],
   "source": [
    "arr2d = np.arange(1,13).reshape(3,4)\n",
    "print(arr2d)\n",
    "print(\"-\"*20)\n",
    "# 0행~1행 값 가져오기\n",
    "print(arr2d[[0,1],:])\n",
    "print(arr2d[:2,:])\n",
    "\n",
    "#1열~3열 값 가져오기\n",
    "print(arr2d[:,[1,2,3]])\n",
    "#print(arr2d[[0,1,2],[1,2,3]])"
   ]
  },
  {
   "cell_type": "markdown",
   "metadata": {
    "id": "YS7qvLG98phq"
   },
   "source": [
    "## 5. ndarray 데이터 형태 바꾸기"
   ]
  },
  {
   "cell_type": "markdown",
   "metadata": {
    "id": "RXRip_MS8phq"
   },
   "source": [
    "### 5.1 ravel()\n",
    "- 다차원 배열을 1차원으로 변경\n",
    "- 'order'파라미터\n",
    "    - **'C'** : row 우선변경\n",
    "    - **'F'** : column 우선변경"
   ]
  },
  {
   "cell_type": "code",
   "execution_count": 271,
   "metadata": {
    "id": "HD2ChlFN8phq",
    "outputId": "200ab957-770c-44b5-c688-f5b30dc103d5"
   },
   "outputs": [
    {
     "name": "stdout",
     "output_type": "stream",
     "text": [
      "[[ 0  1  2  3  4]\n",
      " [ 5  6  7  8  9]\n",
      " [10 11 12 13 14]]\n"
     ]
    }
   ],
   "source": [
    "x = np.arange(15).reshape(3,5)\n",
    "print(x)"
   ]
  },
  {
   "cell_type": "code",
   "execution_count": null,
   "metadata": {
    "id": "QEtAsv2K8phr"
   },
   "outputs": [],
   "source": [
    "# ravel은 ndarrary 의 멤버함수 이면서 -> x.ravel()\n",
    "# np안에 일반함수로도 존재한다. ->np.ravel(x) \n",
    "# 차이는 없다. 편한걸로\n",
    "# 다차원의 배열을 쭉~~펴서 1차원으로 만들어 주는 기능\n"
   ]
  },
  {
   "cell_type": "code",
   "execution_count": 276,
   "metadata": {
    "id": "t3-mKYNr8phr"
   },
   "outputs": [
    {
     "name": "stdout",
     "output_type": "stream",
     "text": [
      "[ 0  1  2  3  4  5  6  7  8  9 10 11 12 13 14]\n",
      "[ 0  1  2  3  4  5  6  7  8  9 10 11 12 13 14]\n",
      "[[ 0  1  2  3  4]\n",
      " [ 5  6  7  8  9]\n",
      " [10 11 12 13 14]]\n",
      "[ 0  1  2  3  4  5  6  7  8  9 10 11 12 13 14]\n"
     ]
    }
   ],
   "source": [
    "print(x.ravel())\n",
    "print(np.ravel(x))\n",
    "print(x)\n",
    "\n",
    "temp =x.ravel()\n",
    "print(temp)\n"
   ]
  },
  {
   "cell_type": "code",
   "execution_count": null,
   "metadata": {
    "id": "rs38gFw98phr"
   },
   "outputs": [],
   "source": []
  },
  {
   "cell_type": "code",
   "execution_count": 278,
   "metadata": {
    "id": "WL72tEno8phr"
   },
   "outputs": [
    {
     "name": "stdout",
     "output_type": "stream",
     "text": [
      "[100   1   2   3   4   5   6   7   8   9  10  11  12  13  14]\n",
      "[[100   1   2   3   4]\n",
      " [  5   6   7   8   9]\n",
      " [ 10  11  12  13  14]]\n"
     ]
    }
   ],
   "source": [
    "# 값을 유지해서 같이 바뀐다. 복사본을 만드는게 아니다.\n",
    "temp[0] =100\n",
    "print(temp)\n",
    "print(x)"
   ]
  },
  {
   "cell_type": "code",
   "execution_count": null,
   "metadata": {
    "id": "Yg5_oG3o8phr",
    "outputId": "07af772b-5fba-4834-a9b2-a26af4d9aec8"
   },
   "outputs": [
    {
     "name": "stdout",
     "output_type": "stream",
     "text": [
      "[[ 0  1  2  3  4]\n",
      " [ 5  6  7  8  9]\n",
      " [10 11 12 13 14]]\n"
     ]
    }
   ],
   "source": [
    "x = np.arange(15).reshape(3,5)\n",
    "print(x)\n"
   ]
  },
  {
   "cell_type": "code",
   "execution_count": 280,
   "metadata": {
    "id": "lgOLq6Fp8phr"
   },
   "outputs": [
    {
     "data": {
      "text/plain": [
       "array([100,   1,   2,   3,   4,   5,   6,   7,   8,   9,  10,  11,  12,\n",
       "        13,  14])"
      ]
     },
     "execution_count": 280,
     "metadata": {},
     "output_type": "execute_result"
    }
   ],
   "source": [
    "# 행으로 펴집. 기본 C로 되어 있음\n",
    "np.ravel(x)                            #아래 Order = \"C\"는 디폴트로 내장되어있다.\n",
    "np.ravel(x,order=\"C\")"
   ]
  },
  {
   "cell_type": "code",
   "execution_count": 281,
   "metadata": {
    "id": "cPobrmQd8phs"
   },
   "outputs": [
    {
     "data": {
      "text/plain": [
       "array([100,   5,  10,   1,   6,  11,   2,   7,  12,   3,   8,  13,   4,\n",
       "         9,  14])"
      ]
     },
     "execution_count": 281,
     "metadata": {},
     "output_type": "execute_result"
    }
   ],
   "source": [
    "# 열로 펴짐\n",
    "np.ravel(x,order=\"F\")"
   ]
  },
  {
   "cell_type": "markdown",
   "metadata": {
    "id": "jcHVrU578phs"
   },
   "source": [
    "### 5.2. flatten\n",
    " - 다차원 배열을 1차원으로 변경\n",
    " - ravel과의 차이점: copy를 생성하여 변경함(즉 원본 데이터가 아닌 복사본을 반환)\n",
    " - 데이터의 변경이 중요하지 않다 -> 아무거나!! , 중요하다 -> flatten 사용\n",
    " - 'order' 파라미터\n",
    "   - 'C' - row 우선 변경\n",
    "   - 'F - column 우선 변경"
   ]
  },
  {
   "cell_type": "code",
   "execution_count": 282,
   "metadata": {
    "id": "eg_9JOBi8phs"
   },
   "outputs": [
    {
     "name": "stdout",
     "output_type": "stream",
     "text": [
      "[[ 0  1  2  3  4]\n",
      " [ 5  6  7  8  9]\n",
      " [10 11 12 13 14]]\n"
     ]
    }
   ],
   "source": [
    "y = np.arange(15).reshape(3,5)\n",
    "print(y)"
   ]
  },
  {
   "cell_type": "code",
   "execution_count": 285,
   "metadata": {
    "id": "1O8g3EbN8phs"
   },
   "outputs": [
    {
     "data": {
      "text/plain": [
       "array([ 0,  1,  2,  3,  4,  5,  6,  7,  8,  9, 10, 11, 12, 13, 14])"
      ]
     },
     "execution_count": 285,
     "metadata": {},
     "output_type": "execute_result"
    }
   ],
   "source": [
    "#flatten은 멤버 함수로만 있다.\n",
    "y.flatten()"
   ]
  },
  {
   "cell_type": "code",
   "execution_count": 288,
   "metadata": {
    "id": "HtXTD4zp8phs"
   },
   "outputs": [
    {
     "name": "stdout",
     "output_type": "stream",
     "text": [
      "[ 0  1  2  3  4  5  6  7  8  9 10 11 12 13 14]\n",
      "[[ 0  1  2  3  4]\n",
      " [ 5  6  7  8  9]\n",
      " [10 11 12 13 14]]\n",
      "[100   1   2   3   4   5   6   7   8   9  10  11  12  13  14]\n"
     ]
    }
   ],
   "source": [
    "# 복사를 해서 쓰는거라 y값 바뀌지 않는다.\n",
    "temp2 = y.flatten()\n",
    "print(temp2)\n",
    "\n",
    "temp2[0] = 100\n",
    "print(y)\n",
    "print(temp2)"
   ]
  },
  {
   "cell_type": "code",
   "execution_count": 290,
   "metadata": {
    "id": "fqzsSV2c8pht"
   },
   "outputs": [
    {
     "name": "stdout",
     "output_type": "stream",
     "text": [
      "[ 0  1  2  3  4  5  6  7  8  9 10 11 12 13 14]\n",
      "[ 0  1  2  3  4  5  6  7  8  9 10 11 12 13 14]\n"
     ]
    }
   ],
   "source": [
    "# 행기준. 디폴트\n",
    "temp2 = y.flatten()                           # Ravel 함수와 마찬가지로 디폴트값으로 order =\"C\"가 내장되어있다.\n",
    "print(temp2)\n",
    "temp2 = y.flatten(order=\"C\")\n",
    "print(temp2)"
   ]
  },
  {
   "cell_type": "code",
   "execution_count": 291,
   "metadata": {
    "id": "BXHRQqO88pht"
   },
   "outputs": [
    {
     "name": "stdout",
     "output_type": "stream",
     "text": [
      "[ 0  5 10  1  6 11  2  7 12  3  8 13  4  9 14]\n"
     ]
    }
   ],
   "source": [
    "# 열기준. \n",
    "temp2 = y.flatten(order=\"F\")\n",
    "print(temp2)"
   ]
  },
  {
   "cell_type": "code",
   "execution_count": null,
   "metadata": {
    "id": "z5e3DonM8pht"
   },
   "outputs": [],
   "source": []
  },
  {
   "cell_type": "code",
   "execution_count": null,
   "metadata": {
    "id": "129J9D2J8pht"
   },
   "outputs": [],
   "source": []
  },
  {
   "cell_type": "code",
   "execution_count": null,
   "metadata": {
    "id": "Cbxjd2XB8pht"
   },
   "outputs": [],
   "source": []
  },
  {
   "cell_type": "markdown",
   "metadata": {
    "id": "Add-UIHL8phu"
   },
   "source": [
    "### 5.3. reshape 함수\n",
    " - array의 shape을 다른 차원으로 변경\n",
    " - 주의할점은 reshape한 후의 결과의 전체 원소 개수와 이전 개수가 같아야 가능\n"
   ]
  },
  {
   "cell_type": "code",
   "execution_count": 259,
   "metadata": {
    "id": "scAowx4r8phu"
   },
   "outputs": [
    {
     "name": "stdout",
     "output_type": "stream",
     "text": [
      "[ 0  1  2  3  4  5  6  7  8  9 10 11 12 13 14 15 16 17 18 19 20 21 22 23\n",
      " 24 25 26 27 28 29 30 31 32 33 34 35]\n",
      "(36,)\n",
      "1\n"
     ]
    }
   ],
   "source": [
    "x = np.arange(36)\n",
    "print(x)\n",
    "print(x.shape)        # \n",
    "print(x.ndim)         # n차원"
   ]
  },
  {
   "cell_type": "code",
   "execution_count": 262,
   "metadata": {
    "id": "SB0J0e1Q8phu"
   },
   "outputs": [
    {
     "data": {
      "text/plain": [
       "array([[ 0,  1,  2,  3,  4,  5],\n",
       "       [ 6,  7,  8,  9, 10, 11],\n",
       "       [12, 13, 14, 15, 16, 17],\n",
       "       [18, 19, 20, 21, 22, 23],\n",
       "       [24, 25, 26, 27, 28, 29],\n",
       "       [30, 31, 32, 33, 34, 35]])"
      ]
     },
     "execution_count": 262,
     "metadata": {},
     "output_type": "execute_result"
    }
   ],
   "source": [
    "# 값의 곱이 원래의 값과 같아야 한다.\n",
    "x.reshape(6,6)"
   ]
  },
  {
   "cell_type": "code",
   "execution_count": 263,
   "metadata": {
    "id": "gYLePOku8phu"
   },
   "outputs": [
    {
     "data": {
      "text/plain": [
       "array([[ 0,  1,  2,  3,  4,  5],\n",
       "       [ 6,  7,  8,  9, 10, 11],\n",
       "       [12, 13, 14, 15, 16, 17],\n",
       "       [18, 19, 20, 21, 22, 23],\n",
       "       [24, 25, 26, 27, 28, 29],\n",
       "       [30, 31, 32, 33, 34, 35]])"
      ]
     },
     "execution_count": 263,
     "metadata": {},
     "output_type": "execute_result"
    }
   ],
   "source": [
    "# 하나의 값이 확정되면(6) 나머지는 알아서 정해주는 기능. 정확한 값을 모를때\n",
    "x.reshape(6,-1)\n"
   ]
  },
  {
   "cell_type": "code",
   "execution_count": 264,
   "metadata": {
    "id": "oE5YszVq8phu"
   },
   "outputs": [
    {
     "data": {
      "text/plain": [
       "array([[ 0,  1,  2,  3,  4,  5,  6,  7,  8,  9, 10, 11],\n",
       "       [12, 13, 14, 15, 16, 17, 18, 19, 20, 21, 22, 23],\n",
       "       [24, 25, 26, 27, 28, 29, 30, 31, 32, 33, 34, 35]])"
      ]
     },
     "execution_count": 264,
     "metadata": {},
     "output_type": "execute_result"
    }
   ],
   "source": [
    "x.reshape(-1,12)"
   ]
  },
  {
   "cell_type": "code",
   "execution_count": 268,
   "metadata": {
    "id": "CWeKyWhq8phv"
   },
   "outputs": [
    {
     "name": "stdout",
     "output_type": "stream",
     "text": [
      "[[[ 0  1  2  3]\n",
      "  [ 4  5  6  7]\n",
      "  [ 8  9 10 11]]\n",
      "\n",
      " [[12 13 14 15]\n",
      "  [16 17 18 19]\n",
      "  [20 21 22 23]]\n",
      "\n",
      " [[24 25 26 27]\n",
      "  [28 29 30 31]\n",
      "  [32 33 34 35]]]\n",
      "3\n",
      "(3, 3, 4)\n"
     ]
    }
   ],
   "source": [
    "y = x.reshape(3,3,4)\n",
    "print(y)\n",
    "print(y.ndim)\n",
    "print(y.shape)"
   ]
  },
  {
   "cell_type": "code",
   "execution_count": null,
   "metadata": {
    "id": "UYy4HD5O8phv"
   },
   "outputs": [],
   "source": []
  },
  {
   "cell_type": "code",
   "execution_count": 270,
   "metadata": {
    "id": "HaXm5wcK8phv",
    "scrolled": true
   },
   "outputs": [
    {
     "name": "stdout",
     "output_type": "stream",
     "text": [
      "[[[ 0  1  2  3]\n",
      "  [ 4  5  6  7]\n",
      "  [ 8  9 10 11]]\n",
      "\n",
      " [[12 13 14 15]\n",
      "  [16 17 18 19]\n",
      "  [20 21 22 23]]\n",
      "\n",
      " [[24 25 26 27]\n",
      "  [28 29 30 31]\n",
      "  [32 33 34 35]]]\n",
      "3\n",
      "(3, 3, 4)\n"
     ]
    }
   ],
   "source": [
    "# 다른 코드를 볼때 -1을 많이 보게 된다. 당황하지 말자!!!!\n",
    "k =x.reshape(3,3,-1)\n",
    "print(k)\n",
    "print(k.ndim)\n",
    "print(k.shape)"
   ]
  }
 ],
 "metadata": {
  "colab": {
   "name": "051. Numpy01_before.ipynb",
   "provenance": []
  },
  "kernelspec": {
   "display_name": "Python 3",
   "language": "python",
   "name": "python3"
  },
  "language_info": {
   "codemirror_mode": {
    "name": "ipython",
    "version": 3
   },
   "file_extension": ".py",
   "mimetype": "text/x-python",
   "name": "python",
   "nbconvert_exporter": "python",
   "pygments_lexer": "ipython3",
   "version": "3.8.8"
  },
  "toc": {
   "base_numbering": 1,
   "nav_menu": {},
   "number_sections": false,
   "sideBar": true,
   "skip_h1_title": false,
   "title_cell": "Table of Contents",
   "title_sidebar": "Contents",
   "toc_cell": false,
   "toc_position": {
    "height": "calc(100% - 180px)",
    "left": "10px",
    "top": "150px",
    "width": "349.091px"
   },
   "toc_section_display": true,
   "toc_window_display": true
  }
 },
 "nbformat": 4,
 "nbformat_minor": 1
}
